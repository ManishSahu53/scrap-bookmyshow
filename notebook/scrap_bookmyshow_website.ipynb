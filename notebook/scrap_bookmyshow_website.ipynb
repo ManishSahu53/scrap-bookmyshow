{
 "cells": [
  {
   "cell_type": "code",
   "execution_count": 1,
   "metadata": {},
   "outputs": [],
   "source": [
    "import os\n",
    "import re\n",
    "os.chdir('../')"
   ]
  },
  {
   "cell_type": "code",
   "execution_count": 121,
   "metadata": {},
   "outputs": [],
   "source": [
    "from src.general_utils import util"
   ]
  },
  {
   "cell_type": "code",
   "execution_count": 2,
   "metadata": {},
   "outputs": [
    {
     "name": "stderr",
     "output_type": "stream",
     "text": [
      "/Users/manish.sahu/Library/Python/3.9/lib/python/site-packages/urllib3/__init__.py:34: NotOpenSSLWarning: urllib3 v2.0 only supports OpenSSL 1.1.1+, currently the 'ssl' module is compiled with 'LibreSSL 2.8.3'. See: https://github.com/urllib3/urllib3/issues/3020\n",
      "  warnings.warn(\n"
     ]
    }
   ],
   "source": [
    "import json\n",
    "import requests\n",
    "import numpy as np\n",
    "import pandas as pd\n",
    "\n",
    "from tqdm import tqdm\n",
    "from bs4 import BeautifulSoup\n",
    "import matplotlib.pyplot as plt"
   ]
  },
  {
   "cell_type": "code",
   "execution_count": 3,
   "metadata": {},
   "outputs": [],
   "source": [
    "cities = [\n",
    "    'bengaluru',\n",
    "    # 'national-capital-region-ncr',\n",
    "]"
   ]
  },
  {
   "cell_type": "code",
   "execution_count": 4,
   "metadata": {},
   "outputs": [],
   "source": [
    "# https://in.bookmyshow.com/explore/movies-bengaluru?languages=hindi\n",
    "# language = '?languages=hindi'\n",
    "# path_base_url = 'https://in.bookmyshow.com/explore/movies-'\n",
    "\n",
    "path_base_url = 'https://paytm.com/movies/'\n",
    "\n",
    "delay = 300 # Delays the script execution\n",
    "headers = {\n",
    "'Referer': 'https://in.bookmyshow.com/explore/movies-bengaluru?languages=hindi',\n",
    "'sec-ch-ua': '\"Not_A Brand\";v=\"99\", \"Google Chrome\";v=\"109\", \"Chromium\";v=\"109\"',\n",
    "'sec-ch-ua-mobile': '?0',\n",
    "'sec-ch-ua-platform': \"Linux\",\n",
    "'User-Agent': 'Mozilla/5.0 (X11; Linux x86_64) AppleWebKit/537.36 (KHTML, like Gecko) Chrome/109.0.0.0 Safari/537.36',\n",
    "}"
   ]
  },
  {
   "cell_type": "code",
   "execution_count": 5,
   "metadata": {},
   "outputs": [
    {
     "name": "stdout",
     "output_type": "stream",
     "text": [
      "path_url: https://paytm.com/movies/bengaluru\n"
     ]
    }
   ],
   "source": [
    "for city in cities:\n",
    "    path_url =  path_base_url + city\n",
    "    print(f'path_url: {path_url}')"
   ]
  },
  {
   "cell_type": "code",
   "execution_count": 6,
   "metadata": {},
   "outputs": [],
   "source": [
    "response = requests.get(path_url, headers = headers)\n",
    "soup = BeautifulSoup(response.text, 'html.parser')"
   ]
  },
  {
   "cell_type": "code",
   "execution_count": 7,
   "metadata": {},
   "outputs": [],
   "source": [
    "class_one = 'MovieCityLandingDesktop_outercontainer__WJTmM'"
   ]
  },
  {
   "cell_type": "code",
   "execution_count": 8,
   "metadata": {},
   "outputs": [
    {
     "name": "stdout",
     "output_type": "stream",
     "text": [
      "result: 605\n"
     ]
    }
   ],
   "source": [
    "result = soup.findAll('div')\n",
    "print(f'result: {len(result)}')"
   ]
  },
  {
   "cell_type": "code",
   "execution_count": 9,
   "metadata": {},
   "outputs": [
    {
     "name": "stdout",
     "output_type": "stream",
     "text": [
      "result: 1\n"
     ]
    }
   ],
   "source": [
    "movie_list = soup.findAll('div', class_=re.compile(\"moviesList\"))\n",
    "print(f'result: {len(movie_list)}')"
   ]
  },
  {
   "cell_type": "code",
   "execution_count": 10,
   "metadata": {},
   "outputs": [
    {
     "name": "stdout",
     "output_type": "stream",
     "text": [
      "result: 28\n"
     ]
    }
   ],
   "source": [
    "running_movie_list = movie_list[0].findAll('div', class_=re.compile(\"RunningMovie_details\"))\n",
    "print(f'result: {len(running_movie_list)}')"
   ]
  },
  {
   "cell_type": "code",
   "execution_count": 12,
   "metadata": {},
   "outputs": [
    {
     "name": "stderr",
     "output_type": "stream",
     "text": [
      "100%|██████████| 28/28 [00:00<00:00, 29441.09it/s]\n"
     ]
    }
   ],
   "source": [
    "movie_data = []\n",
    "\n",
    "for index in tqdm(range(len(running_movie_list))):\n",
    "    temp_running_movie = running_movie_list[index]\n",
    "\n",
    "    temp_data = temp_running_movie.find('a', href=True)\n",
    "    temp_movie_data = {\n",
    "        'name': temp_data.text,\n",
    "        'url': temp_data.get('href')\n",
    "    }\n",
    "    \n",
    "    movie_data.append(temp_movie_data)\n",
    "\n"
   ]
  },
  {
   "cell_type": "code",
   "execution_count": 13,
   "metadata": {},
   "outputs": [
    {
     "data": {
      "text/plain": [
       "<div class=\"MobileRunningMovie_details__oEcin\"><div class=\"MobileRunningMovie_rowMovie__Tr9_Z\"><div class=\"MobileRunningMovie_detMovie__YBAdj\"><a class=\"MobileRunningMovie_lineClamp__akkn9 MobileRunningMovie_clampTwo__eTC0p\" href=\"/movies/kushi-movie-detail-154164\">Kushi</a><span class=\"MobileRunningMovie_lineClamp__akkn9 MobileRunningMovie_clampOne__0_q0w\"><span>U/A</span>Telugu</span></div><div class=\"MobileRunningMovie_butBook__gc8PY\"><div><button class=\"Button_btn__NHo2w Button_is-secondary__J8lii Button_is-medium__qKDWu\">Book Now</button></div></div></div><div class=\"MobileRunningMovie_tag__x1KWx\"><span>2D</span></div></div>"
      ]
     },
     "execution_count": 13,
     "metadata": {},
     "output_type": "execute_result"
    }
   ],
   "source": [
    "running_movie_list[1]"
   ]
  },
  {
   "cell_type": "code",
   "execution_count": 138,
   "metadata": {},
   "outputs": [],
   "source": [
    "path_movie_url = 'https://in.bookmyshow.com/buytickets/pathaan-bengaluru/movie-bang-ET00323848-MT/20230203'\n",
    "response = requests.get(path_movie_url, headers = headers)\n",
    "soup = BeautifulSoup(response.text, 'html.parser')"
   ]
  },
  {
   "cell_type": "code",
   "execution_count": null,
   "metadata": {},
   "outputs": [],
   "source": []
  },
  {
   "cell_type": "code",
   "execution_count": 14,
   "metadata": {},
   "outputs": [],
   "source": [
    "from selenium import webdriver\n",
    "from selenium.webdriver.common.by import By\n",
    "from webdriver_manager.chrome import ChromeDriverManager\n",
    "  "
   ]
  },
  {
   "cell_type": "code",
   "execution_count": 112,
   "metadata": {},
   "outputs": [],
   "source": [
    "class GetMovieDetails:\n",
    "    def __init__(self, path_movie_url):\n",
    "        self.path_movie_url = path_movie_url    \n",
    "\n",
    "    def _get_header(self):\n",
    "        headers = {\n",
    "                'Referer': 'https://in.bookmyshow.com/explore/movies-bengaluru?languages=hindi',\n",
    "                'sec-ch-ua': '\"Not_A Brand\";v=\"99\", \"Google Chrome\";v=\"109\", \"Chromium\";v=\"109\"',\n",
    "                'sec-ch-ua-mobile': '?0',\n",
    "                'sec-ch-ua-platform': \"Linux\",\n",
    "                'User-Agent': 'Mozilla/5.0 (X11; Linux x86_64) AppleWebKit/537.36 (KHTML, like Gecko) Chrome/109.0.0.0 Safari/537.36',\n",
    "                }\n",
    "        return headers\n",
    "        \n",
    "    def _get_soup(self):\n",
    "        headers = self._get_header()\n",
    "\n",
    "        response = requests.get(self.path_movie_url, headers = headers)\n",
    "        soup = BeautifulSoup(response.text, 'html.parser')\n",
    "        return soup\n",
    "    \n",
    "    def _get_chrome_driver(self):\n",
    "        # driver = webdriver.Chrome(ChromeDriverManager().install())\n",
    "        driver = webdriver.Chrome()\n",
    "        driver.get(self.path_movie_url)\n",
    "        return driver\n",
    "\n",
    "    \n",
    "    def convert_to_json(self, data_categories:str):\n",
    "        return json.loads(data_categories)\n",
    "\n",
    "    def get_price(self, data_json):\n",
    "        return data_json.get('price')\n",
    "\n",
    "    def get_desc(self, data_json):\n",
    "        return data_json.get('desc')\n",
    "\n",
    "    def get_availability_class(self, data_json):\n",
    "        return data_json.get('availabilityClass')\n",
    "\n",
    "    def get_availStatus(self, data_json):\n",
    "        return data_json.get('availStatus')\n",
    "\n",
    "    def get_processed_df(self):\n",
    "        driver = self._get_chrome_driver()\n",
    "        \n",
    "        print(driver)\n",
    "        theatre_element_list = driver.find_elements(By.CLASS_NAME, 'list')\n",
    "        print(f'Number of theatres : {len(theatre_element_list)}')\n",
    "\n",
    "        data = []\n",
    "\n",
    "        for i, a in tqdm(enumerate(theatre_element_list)):\n",
    "            try:\n",
    "                titles = a.find_element(By.CLASS_NAME, '__title')\n",
    "                listing_info = a.find_elements(By.CLASS_NAME, 'listing-info')\n",
    "                showtimes = a.find_elements(By.CLASS_NAME, 'showtime-pill')\n",
    "\n",
    "                for s in showtimes:\n",
    "\n",
    "                    data_categories = self.convert_to_json(s.get_attribute('data-categories'))\n",
    "                    timings = s.get_attribute('data-date-time')\n",
    "\n",
    "                    temp_data = {\n",
    "                        'title' : titles.text,\n",
    "                        'timings': timings,\n",
    "                        'latitude': a.get_attribute('data-lat'),\n",
    "                        'longtitude' : a.get_attribute('data-lng'),\n",
    "\n",
    "                        'price': self.get_price(data_categories),\n",
    "                        'description': self.get_desc(data_categories),\n",
    "\n",
    "                        'availability_class': self.get_availability_class(data_categories),\n",
    "                        'avail_status': self.get_availStatus(data_categories)\n",
    "\n",
    "                    }\n",
    "                    \n",
    "                    data.append(temp_data)\n",
    "\n",
    "                # b.find_element('showtime-pill')\n",
    "            except:\n",
    "                print(i)\n",
    "\n",
    "        \n",
    "        data_df = pd.DataFrame(data)\n",
    "\n",
    "        return data_df\n",
    "        "
   ]
  },
  {
   "cell_type": "code",
   "execution_count": null,
   "metadata": {},
   "outputs": [],
   "source": []
  },
  {
   "cell_type": "code",
   "execution_count": 32,
   "metadata": {},
   "outputs": [],
   "source": [
    "path_url = 'https://in.bookmyshow.com/buytickets/pathaan-bengaluru/movie-bang-ET00323848-MT/20230204'\n",
    "path_url = 'https://in.bookmyshow.com/buytickets/jawan-bengaluru/movie-bang-ET00330424-MT/20230916'\n",
    "# https://in.bookmyshow.com/bengaluru/movies/jawan/ET00330424'\n",
    "bmys = GetMovieDetails(path_movie_url=path_url)"
   ]
  },
  {
   "cell_type": "code",
   "execution_count": null,
   "metadata": {},
   "outputs": [],
   "source": [
    "data_df = bmys.get_processed_df()\n",
    "data_df.head()"
   ]
  },
  {
   "cell_type": "code",
   "execution_count": 35,
   "metadata": {},
   "outputs": [
    {
     "data": {
      "text/html": [
       "<div>\n",
       "<style scoped>\n",
       "    .dataframe tbody tr th:only-of-type {\n",
       "        vertical-align: middle;\n",
       "    }\n",
       "\n",
       "    .dataframe tbody tr th {\n",
       "        vertical-align: top;\n",
       "    }\n",
       "\n",
       "    .dataframe thead th {\n",
       "        text-align: right;\n",
       "    }\n",
       "</style>\n",
       "<table border=\"1\" class=\"dataframe\">\n",
       "  <thead>\n",
       "    <tr style=\"text-align: right;\">\n",
       "      <th></th>\n",
       "      <th>title</th>\n",
       "      <th>timings</th>\n",
       "      <th>latitude</th>\n",
       "      <th>longtitude</th>\n",
       "      <th>price</th>\n",
       "      <th>description</th>\n",
       "      <th>availability_class</th>\n",
       "      <th>avail_status</th>\n",
       "    </tr>\n",
       "  </thead>\n",
       "  <tbody>\n",
       "    <tr>\n",
       "      <th>0</th>\n",
       "      <td>Alankar Theater Hoskote Dolby Atmos, 2K Laser\\...</td>\n",
       "      <td>04:00 PM</td>\n",
       "      <td>13.0784</td>\n",
       "      <td>77.7867</td>\n",
       "      <td>100.00</td>\n",
       "      <td>Gold</td>\n",
       "      <td>_available</td>\n",
       "      <td>3</td>\n",
       "    </tr>\n",
       "    <tr>\n",
       "      <th>1</th>\n",
       "      <td>Alankar Theater Hoskote Dolby Atmos, 2K Laser\\...</td>\n",
       "      <td>07:00 PM</td>\n",
       "      <td>13.0784</td>\n",
       "      <td>77.7867</td>\n",
       "      <td>100.00</td>\n",
       "      <td>Gold</td>\n",
       "      <td>_available</td>\n",
       "      <td>3</td>\n",
       "    </tr>\n",
       "    <tr>\n",
       "      <th>2</th>\n",
       "      <td>Anjan Digital 4K A/C Cinema: Magadi Road\\nINFO</td>\n",
       "      <td>07:05 PM</td>\n",
       "      <td>12.9754</td>\n",
       "      <td>77.5589</td>\n",
       "      <td>100.00</td>\n",
       "      <td>SECOND CLASS</td>\n",
       "      <td>_available</td>\n",
       "      <td>3</td>\n",
       "    </tr>\n",
       "    <tr>\n",
       "      <th>3</th>\n",
       "      <td>Anjan Digital 4K A/C Cinema: Magadi Road\\nINFO</td>\n",
       "      <td>10:25 PM</td>\n",
       "      <td>12.9754</td>\n",
       "      <td>77.5589</td>\n",
       "      <td>100.00</td>\n",
       "      <td>SECOND CLASS</td>\n",
       "      <td>_available</td>\n",
       "      <td>3</td>\n",
       "    </tr>\n",
       "    <tr>\n",
       "      <th>4</th>\n",
       "      <td>Ashoka Theatre: Chikkabanavara, Laser Digital\\...</td>\n",
       "      <td>04:00 PM</td>\n",
       "      <td>13.0807</td>\n",
       "      <td>77.5011</td>\n",
       "      <td>100.00</td>\n",
       "      <td>First Class</td>\n",
       "      <td>_available</td>\n",
       "      <td>3</td>\n",
       "    </tr>\n",
       "    <tr>\n",
       "      <th>...</th>\n",
       "      <td>...</td>\n",
       "      <td>...</td>\n",
       "      <td>...</td>\n",
       "      <td>...</td>\n",
       "      <td>...</td>\n",
       "      <td>...</td>\n",
       "      <td>...</td>\n",
       "      <td>...</td>\n",
       "    </tr>\n",
       "    <tr>\n",
       "      <th>510</th>\n",
       "      <td>Victory Cinema Barco-4K RGB-Laser: Kamakshipal...</td>\n",
       "      <td>03:30 PM</td>\n",
       "      <td>12.983</td>\n",
       "      <td>77.5302</td>\n",
       "      <td>195.00</td>\n",
       "      <td>PREMIUM</td>\n",
       "      <td>_available</td>\n",
       "      <td>3</td>\n",
       "    </tr>\n",
       "    <tr>\n",
       "      <th>511</th>\n",
       "      <td>Victory Cinema Barco-4K RGB-Laser: Kamakshipal...</td>\n",
       "      <td>07:00 PM</td>\n",
       "      <td>12.983</td>\n",
       "      <td>77.5302</td>\n",
       "      <td>195.00</td>\n",
       "      <td>PREMIUM</td>\n",
       "      <td>_available</td>\n",
       "      <td>3</td>\n",
       "    </tr>\n",
       "    <tr>\n",
       "      <th>512</th>\n",
       "      <td>Victory Cinema Barco-4K RGB-Laser: Kamakshipal...</td>\n",
       "      <td>10:30 PM</td>\n",
       "      <td>12.983</td>\n",
       "      <td>77.5302</td>\n",
       "      <td>195.00</td>\n",
       "      <td>PREMIUM</td>\n",
       "      <td>_available</td>\n",
       "      <td>3</td>\n",
       "    </tr>\n",
       "    <tr>\n",
       "      <th>513</th>\n",
       "      <td>Vinayaka Cinemas 4K Dolby 11.5 A/C 3D: Harinag...</td>\n",
       "      <td>04:00 PM</td>\n",
       "      <td>12.8751</td>\n",
       "      <td>77.5699</td>\n",
       "      <td>120.00</td>\n",
       "      <td>DIAMOMD</td>\n",
       "      <td>_available</td>\n",
       "      <td>3</td>\n",
       "    </tr>\n",
       "    <tr>\n",
       "      <th>514</th>\n",
       "      <td>Vinayaka Cinemas 4K Dolby 11.5 A/C 3D: Harinag...</td>\n",
       "      <td>09:45 PM</td>\n",
       "      <td>12.8751</td>\n",
       "      <td>77.5699</td>\n",
       "      <td>120.00</td>\n",
       "      <td>DIAMOMD</td>\n",
       "      <td>_available</td>\n",
       "      <td>3</td>\n",
       "    </tr>\n",
       "  </tbody>\n",
       "</table>\n",
       "<p>515 rows × 8 columns</p>\n",
       "</div>"
      ],
      "text/plain": [
       "                                                 title   timings latitude  \\\n",
       "0    Alankar Theater Hoskote Dolby Atmos, 2K Laser\\...  04:00 PM  13.0784   \n",
       "1    Alankar Theater Hoskote Dolby Atmos, 2K Laser\\...  07:00 PM  13.0784   \n",
       "2       Anjan Digital 4K A/C Cinema: Magadi Road\\nINFO  07:05 PM  12.9754   \n",
       "3       Anjan Digital 4K A/C Cinema: Magadi Road\\nINFO  10:25 PM  12.9754   \n",
       "4    Ashoka Theatre: Chikkabanavara, Laser Digital\\...  04:00 PM  13.0807   \n",
       "..                                                 ...       ...      ...   \n",
       "510  Victory Cinema Barco-4K RGB-Laser: Kamakshipal...  03:30 PM   12.983   \n",
       "511  Victory Cinema Barco-4K RGB-Laser: Kamakshipal...  07:00 PM   12.983   \n",
       "512  Victory Cinema Barco-4K RGB-Laser: Kamakshipal...  10:30 PM   12.983   \n",
       "513  Vinayaka Cinemas 4K Dolby 11.5 A/C 3D: Harinag...  04:00 PM  12.8751   \n",
       "514  Vinayaka Cinemas 4K Dolby 11.5 A/C 3D: Harinag...  09:45 PM  12.8751   \n",
       "\n",
       "    longtitude   price   description availability_class avail_status  \n",
       "0      77.7867  100.00          Gold         _available            3  \n",
       "1      77.7867  100.00          Gold         _available            3  \n",
       "2      77.5589  100.00  SECOND CLASS         _available            3  \n",
       "3      77.5589  100.00  SECOND CLASS         _available            3  \n",
       "4      77.5011  100.00   First Class         _available            3  \n",
       "..         ...     ...           ...                ...          ...  \n",
       "510    77.5302  195.00       PREMIUM         _available            3  \n",
       "511    77.5302  195.00       PREMIUM         _available            3  \n",
       "512    77.5302  195.00       PREMIUM         _available            3  \n",
       "513    77.5699  120.00       DIAMOMD         _available            3  \n",
       "514    77.5699  120.00       DIAMOMD         _available            3  \n",
       "\n",
       "[515 rows x 8 columns]"
      ]
     },
     "execution_count": 35,
     "metadata": {},
     "output_type": "execute_result"
    }
   ],
   "source": [
    "data_df"
   ]
  },
  {
   "cell_type": "code",
   "execution_count": 126,
   "metadata": {},
   "outputs": [],
   "source": [
    "class GetMoviesList:\n",
    "    def __init__(self, path_movie_list_url):\n",
    "        self.path_movie_list_url = path_movie_list_url    \n",
    "        self.movie_ahref_string = 'https://in.bookmyshow.com/bengaluru/movies'\n",
    "\n",
    "    def _get_header(self):\n",
    "        headers = {\n",
    "                'Referer': 'https://in.bookmyshow.com/explore/movies-bengaluru?languages=hindi',\n",
    "                'sec-ch-ua': '\"Not_A Brand\";v=\"99\", \"Google Chrome\";v=\"109\", \"Chromium\";v=\"109\"',\n",
    "                'sec-ch-ua-mobile': '?0',\n",
    "                'sec-ch-ua-platform': \"Linux\",\n",
    "                'User-Agent': 'Mozilla/5.0 (X11; Linux x86_64) AppleWebKit/537.36 (KHTML, like Gecko) Chrome/109.0.0.0 Safari/537.36',\n",
    "                }\n",
    "        return headers\n",
    "\n",
    "    def _get_chrome_driver(self):\n",
    "        # driver = webdriver.Chrome(ChromeDriverManager().install())\n",
    "        driver = webdriver.Chrome()\n",
    "        driver.get(self.path_movie_list_url)\n",
    "        \n",
    "        # Scroll to buttom slowly to load all movies\n",
    "        driver.execute_async_script(\n",
    "            \"\"\"\n",
    "        count = 400;\n",
    "        let callback = arguments[arguments.length - 1];\n",
    "        t = setTimeout(function scrolldown(){\n",
    "            console.log(count, t);\n",
    "            window.scrollTo(0, count);\n",
    "            if(count < (document.body.scrollHeight || document.documentElement.scrollHeight)){\n",
    "              count+= 400;\n",
    "              t = setTimeout(scrolldown, 1000);\n",
    "            }else{\n",
    "              callback((document.body.scrollHeight || document.documentElement.scrollHeight));\n",
    "            }\n",
    "        }, 1000);\"\"\"\n",
    "        )\n",
    "        return driver\n",
    "    \n",
    "    def parse_drive_to_soup(self, driver):\n",
    "        soup = BeautifulSoup(driver.page_source, 'html.parser')\n",
    "        return soup\n",
    "    \n",
    "    def get_all_current_movie_list(self, soup):\n",
    "        \n",
    "        movie_soup_element_dict = {}\n",
    "        \n",
    "        movie_tags_list = [a for a in soup.find_all('a', href=True) if self.movie_ahref_string in a['href']]\n",
    "        \n",
    "        # Extract movie names from the URLs\n",
    "        movie_names = []\n",
    "        for link in movie_tags_list:\n",
    "            # Extract the movie name from the URL\n",
    "            movie_name_match = re.search(r'.*/movies/(.*)/ET.*', link['href'])\n",
    "            if movie_name_match:\n",
    "                movie_name = movie_name_match.group(1)\n",
    "                movie_names.append(movie_name)\n",
    "\n",
    "                movie_soup_element_dict[movie_name] = {\n",
    "                    # 'element': link,\n",
    "                    'url': link['href'],\n",
    "                    'name': movie_name,\n",
    "                }\n",
    "            \n",
    "        # # Print the movie names\n",
    "        # for movie_name in movie_names:\n",
    "        #     print(\"Movie Name:\", movie_name)\n",
    "\n",
    "        \n",
    "        print(f'Number of movies running: {len(movie_names)}')\n",
    "        return movie_soup_element_dict\n",
    "        \n",
    "    def generate(self):\n",
    "        driver = self._get_chrome_driver()\n",
    "        soup = self.parse_drive_to_soup(driver)\n",
    "        movie_soup_element_dict  = self.get_all_current_movie_list(soup)\n",
    "        \n",
    "        return movie_soup_element_dict"
   ]
  },
  {
   "cell_type": "code",
   "execution_count": 118,
   "metadata": {},
   "outputs": [],
   "source": [
    "path_movie_list_url = 'https://in.bookmyshow.com/explore/movies-bengaluru'\n",
    "# driver = webdriver.Chrome()\n",
    "# driver.get(path_movie_list)"
   ]
  },
  {
   "cell_type": "code",
   "execution_count": 119,
   "metadata": {},
   "outputs": [
    {
     "name": "stdout",
     "output_type": "stream",
     "text": [
      "Number of movies running: 27\n"
     ]
    }
   ],
   "source": [
    "movie_list_instance = GetMoviesList(path_movie_list_url=path_movie_list_url)\n",
    "movie_soup_element_dict = movie_list_instance.generate()"
   ]
  },
  {
   "cell_type": "code",
   "execution_count": 131,
   "metadata": {},
   "outputs": [],
   "source": [
    "movie_soup_element_dict = {i: {'url': movie_soup_element_dict[i]['url'], 'name': movie_soup_element_dict[i]['name'] } for i in movie_soup_element_dict}"
   ]
  },
  {
   "cell_type": "code",
   "execution_count": 132,
   "metadata": {},
   "outputs": [],
   "source": [
    "util.save_json(movie_soup_element_dict, path_output='data/scrapped_16_09_2023.json')"
   ]
  },
  {
   "cell_type": "code",
   "execution_count": null,
   "metadata": {},
   "outputs": [],
   "source": []
  },
  {
   "cell_type": "code",
   "execution_count": null,
   "metadata": {},
   "outputs": [],
   "source": []
  },
  {
   "cell_type": "code",
   "execution_count": 204,
   "metadata": {},
   "outputs": [],
   "source": [
    "# # for holding the resultant list\n",
    "# element_list = []\n",
    "  \n",
    "# for page in range(1, 3, 1):\n",
    "    \n",
    "#     page_url = \"https://webscraper.io/test-sites/e-commerce/static/computers/laptops?page=\" + str(page)\n",
    "#     driver = webdriver.Chrome(ChromeDriverManager().install())\n",
    "#     driver.get(page_url)\n",
    "#     title = driver.find_elements_by_class_name(\"title\")\n",
    "#     price = driver.find_elements_by_class_name(\"price\")\n",
    "#     description = driver.find_elements_by_class_name(\"description\")\n",
    "#     rating = driver.find_elements_by_class_name(\"ratings\")\n",
    "  \n",
    "#     for i in range(len(title)):\n",
    "#         element_list.append([title[i].text, price[i].text, description[i].text, rating[i].text])\n",
    "  \n",
    "# print(element_list)\n",
    "  \n",
    "# #closing the driver\n",
    "# driver.close()"
   ]
  },
  {
   "cell_type": "code",
   "execution_count": null,
   "metadata": {},
   "outputs": [],
   "source": []
  },
  {
   "cell_type": "code",
   "execution_count": null,
   "metadata": {},
   "outputs": [],
   "source": []
  },
  {
   "cell_type": "code",
   "execution_count": null,
   "metadata": {},
   "outputs": [],
   "source": []
  },
  {
   "cell_type": "code",
   "execution_count": null,
   "metadata": {},
   "outputs": [],
   "source": []
  },
  {
   "cell_type": "code",
   "execution_count": null,
   "metadata": {},
   "outputs": [],
   "source": []
  },
  {
   "cell_type": "code",
   "execution_count": null,
   "metadata": {},
   "outputs": [],
   "source": []
  }
 ],
 "metadata": {
  "kernelspec": {
   "display_name": "py38",
   "language": "python",
   "name": "python3"
  },
  "language_info": {
   "codemirror_mode": {
    "name": "ipython",
    "version": 3
   },
   "file_extension": ".py",
   "mimetype": "text/x-python",
   "name": "python",
   "nbconvert_exporter": "python",
   "pygments_lexer": "ipython3",
   "version": "3.9.6"
  },
  "orig_nbformat": 4,
  "vscode": {
   "interpreter": {
    "hash": "f8daa8cf081d519e6115328af5c7835761d6871f4279c0a8b79269c22be2bb60"
   }
  }
 },
 "nbformat": 4,
 "nbformat_minor": 2
}
