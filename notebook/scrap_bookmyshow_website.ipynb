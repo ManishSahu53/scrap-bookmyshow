{
 "cells": [
  {
   "cell_type": "code",
   "execution_count": 90,
   "metadata": {},
   "outputs": [],
   "source": [
    "import os\n",
    "import re\n",
    "os.chdir('../')"
   ]
  },
  {
   "cell_type": "code",
   "execution_count": 233,
   "metadata": {},
   "outputs": [],
   "source": [
    "import json\n",
    "import requests\n",
    "import numpy as np\n",
    "import pandas as pd\n",
    "\n",
    "from tqdm import tqdm\n",
    "from bs4 import BeautifulSoup\n",
    "import matplotlib.pyplot as plt"
   ]
  },
  {
   "cell_type": "code",
   "execution_count": 10,
   "metadata": {},
   "outputs": [],
   "source": [
    "cities = [\n",
    "    'bengaluru',\n",
    "    # 'national-capital-region-ncr',\n",
    "]"
   ]
  },
  {
   "cell_type": "code",
   "execution_count": 56,
   "metadata": {},
   "outputs": [],
   "source": [
    "# https://in.bookmyshow.com/explore/movies-bengaluru?languages=hindi\n",
    "# language = '?languages=hindi'\n",
    "# path_base_url = 'https://in.bookmyshow.com/explore/movies-'\n",
    "\n",
    "path_base_url = 'https://paytm.com/movies/'\n",
    "\n",
    "delay = 300 # Delays the script execution\n",
    "headers = {\n",
    "'Referer': 'https://in.bookmyshow.com/explore/movies-bengaluru?languages=hindi',\n",
    "'sec-ch-ua': '\"Not_A Brand\";v=\"99\", \"Google Chrome\";v=\"109\", \"Chromium\";v=\"109\"',\n",
    "'sec-ch-ua-mobile': '?0',\n",
    "'sec-ch-ua-platform': \"Linux\",\n",
    "'User-Agent': 'Mozilla/5.0 (X11; Linux x86_64) AppleWebKit/537.36 (KHTML, like Gecko) Chrome/109.0.0.0 Safari/537.36',\n",
    "}"
   ]
  },
  {
   "cell_type": "code",
   "execution_count": 57,
   "metadata": {},
   "outputs": [
    {
     "name": "stdout",
     "output_type": "stream",
     "text": [
      "path_url: https://paytm.com/movies/bengaluru\n"
     ]
    }
   ],
   "source": [
    "for city in cities:\n",
    "    path_url =  path_base_url + city\n",
    "    print(f'path_url: {path_url}')"
   ]
  },
  {
   "cell_type": "code",
   "execution_count": 58,
   "metadata": {},
   "outputs": [],
   "source": [
    "response = requests.get(path_url, headers = headers)\n",
    "soup = BeautifulSoup(response.text, 'html.parser')"
   ]
  },
  {
   "cell_type": "code",
   "execution_count": 71,
   "metadata": {},
   "outputs": [],
   "source": [
    "class_one = 'MovieCityLandingDesktop_outercontainer__WJTmM'"
   ]
  },
  {
   "cell_type": "code",
   "execution_count": 81,
   "metadata": {},
   "outputs": [
    {
     "name": "stdout",
     "output_type": "stream",
     "text": [
      "result: 720\n"
     ]
    }
   ],
   "source": [
    "result = soup.findAll('div')\n",
    "print(f'result: {len(result)}')"
   ]
  },
  {
   "cell_type": "code",
   "execution_count": 102,
   "metadata": {},
   "outputs": [
    {
     "name": "stdout",
     "output_type": "stream",
     "text": [
      "result: 1\n"
     ]
    }
   ],
   "source": [
    "movie_list = soup.findAll('div', class_=re.compile(\"moviesList\"))\n",
    "print(f'result: {len(movie_list)}')"
   ]
  },
  {
   "cell_type": "code",
   "execution_count": 111,
   "metadata": {},
   "outputs": [
    {
     "name": "stdout",
     "output_type": "stream",
     "text": [
      "result: 36\n"
     ]
    }
   ],
   "source": [
    "running_movie_list = movie_list[0].findAll('div', class_=re.compile(\"RunningMovie_details\"))\n",
    "print(f'result: {len(running_movie_list)}')"
   ]
  },
  {
   "cell_type": "code",
   "execution_count": 125,
   "metadata": {},
   "outputs": [
    {
     "name": "stderr",
     "output_type": "stream",
     "text": [
      "100%|██████████| 36/36 [00:00<00:00, 34356.07it/s]\n"
     ]
    }
   ],
   "source": [
    "movie_data = []\n",
    "\n",
    "for index in tqdm(range(len(running_movie_list))):\n",
    "    temp_running_movie = running_movie_list[index]\n",
    "\n",
    "    temp_data = temp_running_movie.find('a', href=True)\n",
    "    temp_movie_data = {\n",
    "        'name': temp_data.text,\n",
    "        'url': temp_data.get('href')\n",
    "    }\n",
    "    \n",
    "    movie_data.append(temp_movie_data)\n",
    "\n"
   ]
  },
  {
   "cell_type": "code",
   "execution_count": 127,
   "metadata": {},
   "outputs": [
    {
     "data": {
      "text/plain": [
       "<div class=\"MobileRunningMovie_details__oEcin\"><div class=\"MobileRunningMovie_rowMovie__Tr9_Z\"><div class=\"MobileRunningMovie_detMovie__YBAdj\"><a class=\"MobileRunningMovie_lineClamp__akkn9 MobileRunningMovie_clampTwo__eTC0p\" href=\"/movies/pathaan-movie-detail-152325\">Pathaan</a><span class=\"MobileRunningMovie_lineClamp__akkn9 MobileRunningMovie_clampOne__0_q0w\"><span>U/A</span>Hindi, Telugu</span></div><div class=\"MobileRunningMovie_butBook__gc8PY\"><div><button class=\"Button_btn__NHo2w Button_is-secondary__J8lii Button_is-medium__qKDWu\">Book Now</button></div></div></div><div class=\"MobileRunningMovie_tag__x1KWx\"><span>2D</span><span>4DX-2D</span><span>IMAX 2D</span></div></div>"
      ]
     },
     "execution_count": 127,
     "metadata": {},
     "output_type": "execute_result"
    }
   ],
   "source": [
    "running_movie_list[1]"
   ]
  },
  {
   "cell_type": "code",
   "execution_count": 138,
   "metadata": {},
   "outputs": [],
   "source": [
    "path_movie_url = 'https://in.bookmyshow.com/buytickets/pathaan-bengaluru/movie-bang-ET00323848-MT/20230203'\n",
    "response = requests.get(path_movie_url, headers = headers)\n",
    "soup = BeautifulSoup(response.text, 'html.parser')"
   ]
  },
  {
   "cell_type": "code",
   "execution_count": null,
   "metadata": {},
   "outputs": [],
   "source": []
  },
  {
   "cell_type": "code",
   "execution_count": 150,
   "metadata": {},
   "outputs": [],
   "source": [
    "from selenium import webdriver\n",
    "from selenium.webdriver.common.by import By\n",
    "from webdriver_manager.chrome import ChromeDriverManager\n",
    "  "
   ]
  },
  {
   "cell_type": "code",
   "execution_count": 279,
   "metadata": {},
   "outputs": [],
   "source": [
    "class BookMyShowScrap:\n",
    "    def __init__(self, path_movie_url):\n",
    "        self.path_movie_url = path_movie_url    \n",
    "\n",
    "    def _get_header(self):\n",
    "        headers = {\n",
    "                'Referer': 'https://in.bookmyshow.com/explore/movies-bengaluru?languages=hindi',\n",
    "                'sec-ch-ua': '\"Not_A Brand\";v=\"99\", \"Google Chrome\";v=\"109\", \"Chromium\";v=\"109\"',\n",
    "                'sec-ch-ua-mobile': '?0',\n",
    "                'sec-ch-ua-platform': \"Linux\",\n",
    "                'User-Agent': 'Mozilla/5.0 (X11; Linux x86_64) AppleWebKit/537.36 (KHTML, like Gecko) Chrome/109.0.0.0 Safari/537.36',\n",
    "                }\n",
    "        return headers\n",
    "        \n",
    "    def _get_soup(self):\n",
    "        headers = self._get_header()\n",
    "\n",
    "        response = requests.get(self.path_movie_url, headers = headers)\n",
    "        soup = BeautifulSoup(response.text, 'html.parser')\n",
    "        return soup\n",
    "    \n",
    "    def _get_chrome_driver(self):\n",
    "        driver = webdriver.Chrome(ChromeDriverManager().install())\n",
    "        driver.get(self.path_movie_url)\n",
    "        return driver\n",
    "\n",
    "    \n",
    "    def convert_to_json(self, data_categories:str):\n",
    "        return json.loads(data_categories)\n",
    "\n",
    "    def get_price(self, data_json):\n",
    "        return data_json.get('price')\n",
    "\n",
    "    def get_desc(self, data_json):\n",
    "        return data_json.get('desc')\n",
    "\n",
    "    def get_availability_class(self, data_json):\n",
    "        return data_json.get('availabilityClass')\n",
    "\n",
    "    def get_availStatus(self, data_json):\n",
    "        return data_json.get('availStatus')\n",
    "\n",
    "    def get_processed_df(self):\n",
    "        driver = self._get_chrome_driver()\n",
    "        \n",
    "        print(driver)\n",
    "        theatre_element_list = driver.find_elements(By.CLASS_NAME, 'list')\n",
    "        print(f'Number of theatres : {len(theatre_element_list)}')\n",
    "\n",
    "        data = []\n",
    "\n",
    "        for i, a in tqdm(enumerate(theatre_element_list)):\n",
    "            try:\n",
    "                titles = a.find_element(By.CLASS_NAME, '__title')\n",
    "                listing_info = a.find_elements(By.CLASS_NAME, 'listing-info')\n",
    "                showtimes = a.find_elements(By.CLASS_NAME, 'showtime-pill')\n",
    "\n",
    "                for s in showtimes:\n",
    "\n",
    "                    data_categories = self.convert_to_json(s.get_attribute('data-categories'))\n",
    "                    timings = s.get_attribute('data-date-time')\n",
    "\n",
    "                    temp_data = {\n",
    "                        'title' : titles.text,\n",
    "                        'timings': timings,\n",
    "                        'latitude': a.get_attribute('data-lat'),\n",
    "                        'longtitude' : a.get_attribute('data-lng'),\n",
    "\n",
    "                        'price': self.get_price(data_categories),\n",
    "                        'description': self.get_desc(data_categories),\n",
    "\n",
    "                        'availability_class': self.get_availability_class(data_categories),\n",
    "                        'avail_status': self.get_availStatus(data_categories)\n",
    "\n",
    "                    }\n",
    "                    \n",
    "                    data.append(temp_data)\n",
    "\n",
    "                # b.find_element('showtime-pill')\n",
    "            except:\n",
    "                print(i)\n",
    "\n",
    "        \n",
    "        data_df = pd.DataFrame(data)\n",
    "\n",
    "        return data_df\n",
    "        "
   ]
  },
  {
   "cell_type": "code",
   "execution_count": 280,
   "metadata": {},
   "outputs": [],
   "source": []
  },
  {
   "cell_type": "code",
   "execution_count": 285,
   "metadata": {},
   "outputs": [],
   "source": [
    "path_url = 'https://in.bookmyshow.com/buytickets/pathaan-bengaluru/movie-bang-ET00323848-MT/20230204'\n",
    "path_url = 'https://in.bookmyshow.com/buytickets/avatar-the-way-of-water-3d-bengaluru/movie-bang-ET00342441-MT/20230204'\n",
    "bmys = BookMyShowScrap(path_movie_url=path_url)"
   ]
  },
  {
   "cell_type": "code",
   "execution_count": 286,
   "metadata": {},
   "outputs": [
    {
     "name": "stderr",
     "output_type": "stream",
     "text": [
      "/tmp/ipykernel_93066/2141217020.py:23: DeprecationWarning: executable_path has been deprecated, please pass in a Service object\n",
      "  driver = webdriver.Chrome(ChromeDriverManager().install())\n"
     ]
    },
    {
     "name": "stdout",
     "output_type": "stream",
     "text": [
      "<selenium.webdriver.chrome.webdriver.WebDriver (session=\"3567e832308c9167275a5a599b19af62\")>\n",
      "Number of theatres : 33\n",
      "0\n",
      "1\n",
      "2\n",
      "3\n",
      "4\n",
      "5\n",
      "31\n",
      "32\n"
     ]
    },
    {
     "data": {
      "text/html": [
       "<div>\n",
       "<style scoped>\n",
       "    .dataframe tbody tr th:only-of-type {\n",
       "        vertical-align: middle;\n",
       "    }\n",
       "\n",
       "    .dataframe tbody tr th {\n",
       "        vertical-align: top;\n",
       "    }\n",
       "\n",
       "    .dataframe thead th {\n",
       "        text-align: right;\n",
       "    }\n",
       "</style>\n",
       "<table border=\"1\" class=\"dataframe\">\n",
       "  <thead>\n",
       "    <tr style=\"text-align: right;\">\n",
       "      <th></th>\n",
       "      <th>title</th>\n",
       "      <th>timings</th>\n",
       "      <th>latitude</th>\n",
       "      <th>longtitude</th>\n",
       "      <th>price</th>\n",
       "      <th>description</th>\n",
       "      <th>availability_class</th>\n",
       "      <th>avail_status</th>\n",
       "    </tr>\n",
       "  </thead>\n",
       "  <tbody>\n",
       "    <tr>\n",
       "      <th>0</th>\n",
       "      <td>PVR: Soul Spirit Central Mall, Bellandur\\nINFO</td>\n",
       "      <td>10:05 PM</td>\n",
       "      <td>12.9259</td>\n",
       "      <td>77.6754</td>\n",
       "      <td>510.00</td>\n",
       "      <td>RECLINER</td>\n",
       "      <td>_filling</td>\n",
       "      <td>2</td>\n",
       "    </tr>\n",
       "    <tr>\n",
       "      <th>1</th>\n",
       "      <td>PVR: Nexus (Formerly Forum), Koramangala\\nINFO</td>\n",
       "      <td>11:00 AM</td>\n",
       "      <td>12.9346</td>\n",
       "      <td>77.6111</td>\n",
       "      <td>240.00</td>\n",
       "      <td>CLASSIC</td>\n",
       "      <td>_filling</td>\n",
       "      <td>2</td>\n",
       "    </tr>\n",
       "    <tr>\n",
       "      <th>2</th>\n",
       "      <td>PVR: Nexus (Formerly Forum), Koramangala\\nINFO</td>\n",
       "      <td>02:55 PM</td>\n",
       "      <td>12.9346</td>\n",
       "      <td>77.6111</td>\n",
       "      <td>300.00</td>\n",
       "      <td>CLASSIC</td>\n",
       "      <td>_filling</td>\n",
       "      <td>1</td>\n",
       "    </tr>\n",
       "    <tr>\n",
       "      <th>3</th>\n",
       "      <td>PVR: Nexus (Formerly Forum), Koramangala\\nINFO</td>\n",
       "      <td>09:20 PM</td>\n",
       "      <td>12.9346</td>\n",
       "      <td>77.6111</td>\n",
       "      <td>300.00</td>\n",
       "      <td>CLASSIC</td>\n",
       "      <td>_available</td>\n",
       "      <td>3</td>\n",
       "    </tr>\n",
       "    <tr>\n",
       "      <th>4</th>\n",
       "      <td>PVR: Vega City, Bannerghatta Road\\nINFO</td>\n",
       "      <td>11:10 AM</td>\n",
       "      <td>12.9077</td>\n",
       "      <td>77.6012</td>\n",
       "      <td>250.00</td>\n",
       "      <td>CLASSIC</td>\n",
       "      <td>_filling</td>\n",
       "      <td>2</td>\n",
       "    </tr>\n",
       "  </tbody>\n",
       "</table>\n",
       "</div>"
      ],
      "text/plain": [
       "                                            title   timings latitude  \\\n",
       "0  PVR: Soul Spirit Central Mall, Bellandur\\nINFO  10:05 PM  12.9259   \n",
       "1  PVR: Nexus (Formerly Forum), Koramangala\\nINFO  11:00 AM  12.9346   \n",
       "2  PVR: Nexus (Formerly Forum), Koramangala\\nINFO  02:55 PM  12.9346   \n",
       "3  PVR: Nexus (Formerly Forum), Koramangala\\nINFO  09:20 PM  12.9346   \n",
       "4         PVR: Vega City, Bannerghatta Road\\nINFO  11:10 AM  12.9077   \n",
       "\n",
       "  longtitude   price description availability_class avail_status  \n",
       "0    77.6754  510.00    RECLINER           _filling            2  \n",
       "1    77.6111  240.00     CLASSIC           _filling            2  \n",
       "2    77.6111  300.00     CLASSIC           _filling            1  \n",
       "3    77.6111  300.00     CLASSIC         _available            3  \n",
       "4    77.6012  250.00     CLASSIC           _filling            2  "
      ]
     },
     "execution_count": 286,
     "metadata": {},
     "output_type": "execute_result"
    }
   ],
   "source": [
    "data_df = bmys.get_processed_df()\n",
    "data_df.head()"
   ]
  },
  {
   "cell_type": "code",
   "execution_count": 278,
   "metadata": {},
   "outputs": [
    {
     "name": "stderr",
     "output_type": "stream",
     "text": [
      "/tmp/ipykernel_93066/1840110318.py:1: DeprecationWarning: executable_path has been deprecated, please pass in a Service object\n",
      "  driver = webdriver.Chrome(ChromeDriverManager().install())\n"
     ]
    }
   ],
   "source": [
    "driver = webdriver.Chrome(ChromeDriverManager().install())\n",
    "driver.get(path_url)"
   ]
  },
  {
   "cell_type": "code",
   "execution_count": 262,
   "metadata": {},
   "outputs": [
    {
     "name": "stdout",
     "output_type": "stream",
     "text": [
      "Number of theatres : 85\n"
     ]
    }
   ],
   "source": [
    "theatre_element_list = driver.find_elements(By.CLASS_NAME, 'list')\n",
    "print(f'Number of theatres : {len(theatre_element_list)}')"
   ]
  },
  {
   "cell_type": "code",
   "execution_count": null,
   "metadata": {},
   "outputs": [],
   "source": [
    "def convert_to_json(data_categories:str):\n",
    "    return json.loads(data_categories)\n",
    "\n",
    "def get_price(data_json):\n",
    "    return data_json.get('price')\n",
    "\n",
    "def get_desc(data_json):\n",
    "    return data_json.get('desc')\n",
    "\n",
    "def get_availability_class(data_json):\n",
    "    return data_json.get('availabilityClass')\n",
    "\n",
    "def get_availStatus(data_json):\n",
    "    return data_json.get('availStatus')\n"
   ]
  },
  {
   "cell_type": "code",
   "execution_count": 254,
   "metadata": {},
   "outputs": [
    {
     "name": "stdout",
     "output_type": "stream",
     "text": [
      "0\n",
      "1\n",
      "2\n",
      "3\n",
      "4\n",
      "5\n",
      "73\n",
      "74\n"
     ]
    }
   ],
   "source": [
    "data = []\n",
    "\n",
    "for i, a in enumerate(theatre_element_list):\n",
    "    try:\n",
    "        titles = a.find_element(By.CLASS_NAME, '__title')\n",
    "        listing_info = a.find_elements(By.CLASS_NAME, 'listing-info')\n",
    "        showtimes = a.find_elements(By.CLASS_NAME, 'showtime-pill')\n",
    "\n",
    "        for s in showtimes:\n",
    "\n",
    "            data_categories = convert_to_json(s.get_attribute('data-categories'))\n",
    "            timings = s.get_attribute('data-date-time')\n",
    "\n",
    "            temp_data = {\n",
    "                'title' : titles.text,\n",
    "                'timings': timings,\n",
    "                'latitude': a.get_attribute('data-lat'),\n",
    "                'longtitude' : a.get_attribute('data-lng'),\n",
    "\n",
    "                'price': get_price(data_categories),\n",
    "                'description': get_desc(data_categories),\n",
    "\n",
    "                'availability_class': get_availability_class(data_categories),\n",
    "                'avail_status': get_availStatus(data_categories)\n",
    "\n",
    "            }\n",
    "            \n",
    "            data.append(temp_data)\n",
    "\n",
    "        # b.find_element('showtime-pill')\n",
    "    except:\n",
    "        print(i)"
   ]
  },
  {
   "cell_type": "code",
   "execution_count": 255,
   "metadata": {},
   "outputs": [
    {
     "data": {
      "text/html": [
       "<div>\n",
       "<style scoped>\n",
       "    .dataframe tbody tr th:only-of-type {\n",
       "        vertical-align: middle;\n",
       "    }\n",
       "\n",
       "    .dataframe tbody tr th {\n",
       "        vertical-align: top;\n",
       "    }\n",
       "\n",
       "    .dataframe thead th {\n",
       "        text-align: right;\n",
       "    }\n",
       "</style>\n",
       "<table border=\"1\" class=\"dataframe\">\n",
       "  <thead>\n",
       "    <tr style=\"text-align: right;\">\n",
       "      <th></th>\n",
       "      <th>title</th>\n",
       "      <th>timings</th>\n",
       "      <th>latitude</th>\n",
       "      <th>longtitude</th>\n",
       "      <th>price</th>\n",
       "      <th>description</th>\n",
       "      <th>availability_class</th>\n",
       "      <th>avail_status</th>\n",
       "    </tr>\n",
       "  </thead>\n",
       "  <tbody>\n",
       "    <tr>\n",
       "      <th>0</th>\n",
       "      <td>PVR: Soul Spirit Central Mall, Bellandur\\nINFO</td>\n",
       "      <td>09:45 PM</td>\n",
       "      <td>12.9259</td>\n",
       "      <td>77.6754</td>\n",
       "      <td>700.00</td>\n",
       "      <td>RECLINER</td>\n",
       "      <td>_sold</td>\n",
       "      <td>0</td>\n",
       "    </tr>\n",
       "    <tr>\n",
       "      <th>1</th>\n",
       "      <td>PVR: Soul Spirit Central Mall, Bellandur\\nINFO</td>\n",
       "      <td>10:30 PM</td>\n",
       "      <td>12.9259</td>\n",
       "      <td>77.6754</td>\n",
       "      <td>700.00</td>\n",
       "      <td>RECLINER</td>\n",
       "      <td>_sold</td>\n",
       "      <td>0</td>\n",
       "    </tr>\n",
       "    <tr>\n",
       "      <th>2</th>\n",
       "      <td>Thirumala 4K Dolby Atmos: Agara\\nINFO</td>\n",
       "      <td>09:45 PM</td>\n",
       "      <td>12.9199</td>\n",
       "      <td>77.6497</td>\n",
       "      <td>100.00</td>\n",
       "      <td>Silver Class</td>\n",
       "      <td>_available</td>\n",
       "      <td>3</td>\n",
       "    </tr>\n",
       "    <tr>\n",
       "      <th>3</th>\n",
       "      <td>Cinephile HSR Layout: PNR Felicity Mall Haralu...</td>\n",
       "      <td>10:00 PM</td>\n",
       "      <td>12.8963</td>\n",
       "      <td>77.6579</td>\n",
       "      <td>200.00</td>\n",
       "      <td>GOLD</td>\n",
       "      <td>_filling</td>\n",
       "      <td>1</td>\n",
       "    </tr>\n",
       "    <tr>\n",
       "      <th>4</th>\n",
       "      <td>PVR: Gold, Nexus (Formerly Forum), Koramangala...</td>\n",
       "      <td>09:30 PM</td>\n",
       "      <td>12.9346</td>\n",
       "      <td>77.6111</td>\n",
       "      <td>1050.00</td>\n",
       "      <td>GOLD PRIME</td>\n",
       "      <td>_sold</td>\n",
       "      <td>0</td>\n",
       "    </tr>\n",
       "  </tbody>\n",
       "</table>\n",
       "</div>"
      ],
      "text/plain": [
       "                                               title   timings latitude  \\\n",
       "0     PVR: Soul Spirit Central Mall, Bellandur\\nINFO  09:45 PM  12.9259   \n",
       "1     PVR: Soul Spirit Central Mall, Bellandur\\nINFO  10:30 PM  12.9259   \n",
       "2              Thirumala 4K Dolby Atmos: Agara\\nINFO  09:45 PM  12.9199   \n",
       "3  Cinephile HSR Layout: PNR Felicity Mall Haralu...  10:00 PM  12.8963   \n",
       "4  PVR: Gold, Nexus (Formerly Forum), Koramangala...  09:30 PM  12.9346   \n",
       "\n",
       "  longtitude    price   description availability_class avail_status  \n",
       "0    77.6754   700.00      RECLINER              _sold            0  \n",
       "1    77.6754   700.00      RECLINER              _sold            0  \n",
       "2    77.6497   100.00  Silver Class         _available            3  \n",
       "3    77.6579   200.00          GOLD           _filling            1  \n",
       "4    77.6111  1050.00    GOLD PRIME              _sold            0  "
      ]
     },
     "execution_count": 255,
     "metadata": {},
     "output_type": "execute_result"
    }
   ],
   "source": [
    "data_df = pd.DataFrame(data)\n",
    "data_df.head()"
   ]
  },
  {
   "cell_type": "code",
   "execution_count": null,
   "metadata": {},
   "outputs": [],
   "source": []
  },
  {
   "cell_type": "code",
   "execution_count": null,
   "metadata": {},
   "outputs": [],
   "source": []
  },
  {
   "cell_type": "code",
   "execution_count": null,
   "metadata": {},
   "outputs": [],
   "source": []
  },
  {
   "cell_type": "code",
   "execution_count": null,
   "metadata": {},
   "outputs": [],
   "source": []
  },
  {
   "cell_type": "code",
   "execution_count": null,
   "metadata": {},
   "outputs": [],
   "source": []
  },
  {
   "cell_type": "code",
   "execution_count": 204,
   "metadata": {},
   "outputs": [],
   "source": [
    "# # for holding the resultant list\n",
    "# element_list = []\n",
    "  \n",
    "# for page in range(1, 3, 1):\n",
    "    \n",
    "#     page_url = \"https://webscraper.io/test-sites/e-commerce/static/computers/laptops?page=\" + str(page)\n",
    "#     driver = webdriver.Chrome(ChromeDriverManager().install())\n",
    "#     driver.get(page_url)\n",
    "#     title = driver.find_elements_by_class_name(\"title\")\n",
    "#     price = driver.find_elements_by_class_name(\"price\")\n",
    "#     description = driver.find_elements_by_class_name(\"description\")\n",
    "#     rating = driver.find_elements_by_class_name(\"ratings\")\n",
    "  \n",
    "#     for i in range(len(title)):\n",
    "#         element_list.append([title[i].text, price[i].text, description[i].text, rating[i].text])\n",
    "  \n",
    "# print(element_list)\n",
    "  \n",
    "# #closing the driver\n",
    "# driver.close()"
   ]
  },
  {
   "cell_type": "code",
   "execution_count": null,
   "metadata": {},
   "outputs": [],
   "source": []
  },
  {
   "cell_type": "code",
   "execution_count": null,
   "metadata": {},
   "outputs": [],
   "source": []
  },
  {
   "cell_type": "code",
   "execution_count": null,
   "metadata": {},
   "outputs": [],
   "source": []
  },
  {
   "cell_type": "code",
   "execution_count": null,
   "metadata": {},
   "outputs": [],
   "source": []
  },
  {
   "cell_type": "code",
   "execution_count": null,
   "metadata": {},
   "outputs": [],
   "source": []
  },
  {
   "cell_type": "code",
   "execution_count": null,
   "metadata": {},
   "outputs": [],
   "source": []
  }
 ],
 "metadata": {
  "kernelspec": {
   "display_name": "py38",
   "language": "python",
   "name": "python3"
  },
  "language_info": {
   "codemirror_mode": {
    "name": "ipython",
    "version": 3
   },
   "file_extension": ".py",
   "mimetype": "text/x-python",
   "name": "python",
   "nbconvert_exporter": "python",
   "pygments_lexer": "ipython3",
   "version": "3.8.15"
  },
  "orig_nbformat": 4,
  "vscode": {
   "interpreter": {
    "hash": "f8daa8cf081d519e6115328af5c7835761d6871f4279c0a8b79269c22be2bb60"
   }
  }
 },
 "nbformat": 4,
 "nbformat_minor": 2
}
