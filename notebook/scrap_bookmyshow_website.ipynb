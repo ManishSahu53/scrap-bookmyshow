{
 "cells": [
  {
   "cell_type": "code",
   "execution_count": 1,
   "metadata": {},
   "outputs": [],
   "source": [
    "import os\n",
    "import re\n",
    "os.chdir('../')"
   ]
  },
  {
   "cell_type": "code",
   "execution_count": 2,
   "metadata": {},
   "outputs": [
    {
     "name": "stderr",
     "output_type": "stream",
     "text": [
      "/Users/manish.sahu/Library/Python/3.9/lib/python/site-packages/urllib3/__init__.py:34: NotOpenSSLWarning: urllib3 v2.0 only supports OpenSSL 1.1.1+, currently the 'ssl' module is compiled with 'LibreSSL 2.8.3'. See: https://github.com/urllib3/urllib3/issues/3020\n",
      "  warnings.warn(\n"
     ]
    }
   ],
   "source": [
    "import json\n",
    "import time\n",
    "import requests\n",
    "from datetime import datetime\n",
    "\n",
    "import numpy as np\n",
    "import pandas as pd\n",
    "\n",
    "from tqdm import tqdm\n",
    "from bs4 import BeautifulSoup\n",
    "import matplotlib.pyplot as plt\n",
    "\n",
    "from selenium import webdriver\n",
    "from selenium.webdriver.common.by import By\n",
    "from webdriver_manager.chrome import ChromeDriverManager\n",
    "  "
   ]
  },
  {
   "cell_type": "code",
   "execution_count": 22,
   "metadata": {},
   "outputs": [],
   "source": [
    "from config import params\n",
    "\n",
    "from src.general_utils import util\n",
    "from src.data_utils import data_loader\n"
   ]
  },
  {
   "cell_type": "code",
   "execution_count": 7,
   "metadata": {},
   "outputs": [],
   "source": [
    "location_list = [\n",
    "    'bengaluru',\n",
    "    # 'national-capital-region-ncr',\n",
    "    # 'mumbai',\n",
    "    # 'chennai',\n",
    "    # 'kolkata',\n",
    "    # 'bhopal',\n",
    "    # 'indore',\n",
    "    # 'chandigarh',\n",
    "    # 'ahmedabad',\n",
    "    # 'hyderabad',\n",
    "    # 'pune',\n",
    "    # 'kochi',\n",
    "    # 'varanasi',\n",
    "    # 'jaipur',\n",
    "    # 'bhubaneswar',\n",
    "]"
   ]
  },
  {
   "cell_type": "code",
   "execution_count": 5,
   "metadata": {},
   "outputs": [],
   "source": [
    "class GetMovieDetails:\n",
    "    def __init__(self, path_movie_url, movie_name, date, location, if_debug=False):\n",
    "        \n",
    "        self.path_movie_url = path_movie_url   \n",
    "        self.movie_name = movie_name \n",
    "        self.date = date\n",
    "        self.location = location\n",
    "        self.formatted_time = self._get_current_time()\n",
    "        self.if_debug = if_debug\n",
    "\n",
    "    def _get_current_time(self):\n",
    "        # Get the current time in seconds since the epoch\n",
    "        current_time_seconds = time.time()\n",
    "\n",
    "        # Convert seconds since the epoch to a time structure\n",
    "        time_struct = time.localtime(current_time_seconds)\n",
    "\n",
    "        # Format the time in 24-hour format (HH:MM:SS)\n",
    "        formatted_time = time.strftime(\"%H:%M\", time_struct)\n",
    "        return formatted_time\n",
    "    \n",
    "    def _get_header(self):\n",
    "        headers = {\n",
    "                'Referer': 'https://in.bookmyshow.com/explore/movies-bengaluru?languages=hindi',\n",
    "                'sec-ch-ua': '\"Not_A Brand\";v=\"99\", \"Google Chrome\";v=\"109\", \"Chromium\";v=\"109\"',\n",
    "                'sec-ch-ua-mobile': '?0',\n",
    "                'sec-ch-ua-platform': \"Linux\",\n",
    "                'User-Agent': 'Mozilla/5.0 (X11; Linux x86_64) AppleWebKit/537.36 (KHTML, like Gecko) Chrome/109.0.0.0 Safari/537.36',\n",
    "                }\n",
    "        return headers\n",
    "        \n",
    "    \n",
    "    def _get_chrome_driver(self):\n",
    "        # driver = webdriver.Chrome(ChromeDriverManager().install())\n",
    "        driver = webdriver.Chrome()\n",
    "        driver.get(self.path_movie_url)\n",
    "        return driver\n",
    "\n",
    "    \n",
    "    def convert_to_json(self, data_categories:str):\n",
    "        return json.loads(data_categories)\n",
    "\n",
    "    def get_price(self, data_json):\n",
    "        return data_json.get('price')\n",
    "\n",
    "    def get_desc(self, data_json):\n",
    "        return data_json.get('desc')\n",
    "\n",
    "    def get_availability_class(self, data_json):\n",
    "        return data_json.get('availabilityClass')\n",
    "\n",
    "    def get_availStatus(self, data_json):\n",
    "        return data_json.get('availStatus')\n",
    "\n",
    "    def get_processed_df(self):\n",
    "        driver = self._get_chrome_driver()\n",
    "        \n",
    "        if self.if_debug : print(driver)\n",
    "        theatre_element_list = driver.find_elements(By.CLASS_NAME, 'list')\n",
    "        if self.if_debug : print(f'Number of theatres : {len(theatre_element_list)}')\n",
    "\n",
    "        data = []\n",
    "\n",
    "        for i, a in tqdm(enumerate(theatre_element_list)):\n",
    "            try:\n",
    "                titles = a.find_element(By.CLASS_NAME, '__title')\n",
    "                listing_info = a.find_elements(By.CLASS_NAME, 'listing-info')\n",
    "                showtimes = a.find_elements(By.CLASS_NAME, 'showtime-pill')\n",
    "\n",
    "                for s in showtimes:\n",
    "\n",
    "                    data_categories = self.convert_to_json(s.get_attribute('data-categories'))\n",
    "                    timings = s.get_attribute('data-date-time')\n",
    "\n",
    "                    temp_data = {\n",
    "                        'cinema_title' : titles.text.split('\\nINFO')[0],\n",
    "                        'timings': timings,\n",
    "                        'latitude': a.get_attribute('data-lat'),\n",
    "                        'longtitude' : a.get_attribute('data-lng'),\n",
    "\n",
    "                        'price': self.get_price(data_categories),\n",
    "                        'description': self.get_desc(data_categories),\n",
    "\n",
    "                        'availability_class': self.get_availability_class(data_categories),\n",
    "                        'avail_status': self.get_availStatus(data_categories),\n",
    "                        'movie_name' : self.movie_name,\n",
    "                        'date' : self.date,\n",
    "                        'location' : self.location,\n",
    "                        'checked_time' : self.formatted_time,\n",
    "                    }\n",
    "                    \n",
    "                    data.append(temp_data)\n",
    "\n",
    "                # b.find_element('showtime-pill')\n",
    "            except:\n",
    "                if self.if_debug : print(i)\n",
    "\n",
    "        \n",
    "        data_df = pd.DataFrame(data)\n",
    "\n",
    "        return data_df\n",
    "        "
   ]
  },
  {
   "cell_type": "code",
   "execution_count": 6,
   "metadata": {},
   "outputs": [],
   "source": [
    "class GetMoviesList:\n",
    "    def __init__(self, path_movie_list_url, location, date):\n",
    "        self.date = date\n",
    "        self.location = location\n",
    "        self.path_movie_list_url = path_movie_list_url    \n",
    "        self.movie_ahref_string = f'https://in.bookmyshow.com/{location}/movies'\n",
    "\n",
    "    def _get_header(self):\n",
    "        headers = {\n",
    "                'Referer': 'https://in.bookmyshow.com/explore/movies-bengaluru?languages=hindi',\n",
    "                'sec-ch-ua': '\"Not_A Brand\";v=\"99\", \"Google Chrome\";v=\"109\", \"Chromium\";v=\"109\"',\n",
    "                'sec-ch-ua-mobile': '?0',\n",
    "                'sec-ch-ua-platform': \"Linux\",\n",
    "                'User-Agent': 'Mozilla/5.0 (X11; Linux x86_64) AppleWebKit/537.36 (KHTML, like Gecko) Chrome/109.0.0.0 Safari/537.36',\n",
    "                }\n",
    "        return headers\n",
    "\n",
    "    def _get_chrome_driver(self):\n",
    "        # driver = webdriver.Chrome(ChromeDriverManager().install())\n",
    "        driver = webdriver.Chrome()\n",
    "        driver.get(self.path_movie_list_url)\n",
    "        \n",
    "        # Scroll to buttom slowly to load all movies\n",
    "        driver.execute_async_script(\n",
    "            \"\"\"\n",
    "        count = 400;\n",
    "        let callback = arguments[arguments.length - 1];\n",
    "        t = setTimeout(function scrolldown(){\n",
    "            console.log(count, t);\n",
    "            window.scrollTo(0, count);\n",
    "            if(count < (document.body.scrollHeight || document.documentElement.scrollHeight)){\n",
    "              count+= 400;\n",
    "              t = setTimeout(scrolldown, 1000);\n",
    "            }else{\n",
    "              callback((document.body.scrollHeight || document.documentElement.scrollHeight));\n",
    "            }\n",
    "        }, 1000);\"\"\"\n",
    "        )\n",
    "        return driver\n",
    "    \n",
    "    def parse_drive_to_soup(self, driver):\n",
    "        soup = BeautifulSoup(driver.page_source, 'html.parser')\n",
    "        return soup\n",
    "    \n",
    "    def get_all_current_movie_list(self, soup):\n",
    "        \n",
    "        movie_soup_element_dict = {}\n",
    "        \n",
    "        movie_tags_list = [a for a in soup.find_all('a', href=True) if self.movie_ahref_string in a['href']]\n",
    "        \n",
    "        # Extract movie names from the URLs\n",
    "        movie_names = []\n",
    "        for link in movie_tags_list:\n",
    "            # Extract the movie name from the URL\n",
    "            movie_name_match = re.search(r'.*/movies/(.*)/ET.*', link['href'])\n",
    "            if movie_name_match:\n",
    "                movie_name = movie_name_match.group(1)\n",
    "                movie_names.append(movie_name)\n",
    "\n",
    "                movie_url = link['href']\n",
    "                movie_url_basename = movie_url.split('/')[-1]\n",
    "                \n",
    "                movie_booking_url = f'https://in.bookmyshow.com/buytickets/{movie_name}-{self.location}/movie-bang-{movie_url_basename}-MT/{self.date}'\n",
    "\n",
    "                movie_soup_element_dict[movie_name] = {\n",
    "                    # 'element': link,\n",
    "                    'url': movie_url,\n",
    "                    'name': movie_name,\n",
    "                    'booking_url' : movie_booking_url,\n",
    "                    'date': self.date,\n",
    "                    'location' : self.location,\n",
    "                }\n",
    "            \n",
    "        # # Print the movie names\n",
    "        # for movie_name in movie_names:\n",
    "        #     print(\"Movie Name:\", movie_name)\n",
    "\n",
    "        \n",
    "        print(f'Number of movies running: {len(movie_names)}')\n",
    "        return movie_soup_element_dict\n",
    "        \n",
    "    def generate(self):\n",
    "        driver = self._get_chrome_driver()\n",
    "        soup = self.parse_drive_to_soup(driver)\n",
    "        movie_soup_element_dict  = self.get_all_current_movie_list(soup)\n",
    "        \n",
    "        return movie_soup_element_dict"
   ]
  },
  {
   "cell_type": "code",
   "execution_count": null,
   "metadata": {},
   "outputs": [],
   "source": [
    "for location in location_list:\n",
    "    print(f'Processing location: {location}')\n",
    "    # location = 'national-capital-region-ncr'\n",
    "    # Get the current date\n",
    "    current_date = datetime.now()\n",
    "    # Format the date in YYYYMMDD format\n",
    "    date = current_date.strftime(\"%Y%m%d\")\n",
    "    # Get the current time in seconds since the epoch\n",
    "    current_time_seconds = time.time()\n",
    "\n",
    "    # Convert seconds since the epoch to a time structure\n",
    "    time_struct = time.localtime(current_time_seconds)\n",
    "\n",
    "    # Format the time in 24-hour format (HH:MM:SS)\n",
    "    formatted_time = time.strftime(\"%H:%M\", time_struct)\n",
    "\n",
    "    path_movie_list_url = f'https://in.bookmyshow.com/explore/movies-{location}'\n",
    "    path_output_dir = 'data/'\n",
    "\n",
    "    #######################\n",
    "    path_output_data_csv = os.path.join(path_output_dir, f'{location}/{date}/data_{location}_{date}.csv')\n",
    "    path_output_data_json = os.path.join(path_output_dir, f'{location}/{date}/data_{location}_{date}.json')\n",
    "\n",
    "    print(f'path_output_data_csv: {path_output_data_csv}')\n",
    "    \n",
    "    #######################\n",
    "    movie_list_instance = GetMoviesList(path_movie_list_url=path_movie_list_url, location=location, date=date)\n",
    "    movie_soup_element_dict = movie_list_instance.generate()\n",
    "    \n",
    "    util.check_dir(os.path.dirname(path_output_data_json))\n",
    "    util.save_json(movie_soup_element_dict, path_output=path_output_data_json)\n",
    "    \n",
    "    \n",
    "    #######################\n",
    "    data_movie_list = []\n",
    "\n",
    "    for movie_name in tqdm(movie_soup_element_dict):\n",
    "        path_movie_url = movie_soup_element_dict[movie_name]['booking_url']\n",
    "\n",
    "        movie_details = GetMovieDetails(path_movie_url=path_movie_url,\n",
    "                                        location=location, date=date,\n",
    "                                        movie_name=movie_name,\n",
    "                                        \n",
    "                                        )\n",
    "        movie_detail_df = movie_details.get_processed_df()\n",
    "        data_movie_list.append(movie_detail_df)\n",
    "\n",
    "\n",
    "    data_movie_list_pd = pd.concat(data_movie_list)\n",
    "    \n",
    "    \n",
    "    if os.path.exists(path_output_data_csv):\n",
    "        data_movie_list_pd.to_csv(path_output_data_csv, index=False, mode='a', header=False)\n",
    "    else:\n",
    "        data_movie_list_pd.to_csv(path_output_data_csv, index=False, mode='a', header=True)"
   ]
  },
  {
   "cell_type": "code",
   "execution_count": 10,
   "metadata": {},
   "outputs": [
    {
     "name": "stdout",
     "output_type": "stream",
     "text": [
      "path_output_data_csv: data/bengaluru/20230917/data_bengaluru_20230917.csv\n"
     ]
    }
   ],
   "source": [
    "location = 'bengaluru'\n",
    "\n",
    "current_date = datetime.now()\n",
    "# Format the date in YYYYMMDD format\n",
    "date = current_date.strftime(\"%Y%m%d\")\n",
    "# Get the current time in seconds since the epoch\n",
    "current_time_seconds = time.time()\n",
    "\n",
    "# Convert seconds since the epoch to a time structure\n",
    "time_struct = time.localtime(current_time_seconds)\n",
    "\n",
    "# Format the time in 24-hour format (HH:MM:SS)\n",
    "formatted_time = time.strftime(\"%H:%M\", time_struct)\n",
    "\n",
    "path_movie_list_url = f'https://in.bookmyshow.com/explore/movies-{location}'\n",
    "path_output_dir = 'data/'\n",
    "\n",
    "#######################\n",
    "path_output_data_csv = os.path.join(path_output_dir, f'{location}/{date}/data_{location}_{date}.csv')\n",
    "path_output_data_json = os.path.join(path_output_dir, f'{location}/{date}/data_{location}_{date}.json')\n",
    "\n",
    "print(f'path_output_data_csv: {path_output_data_csv}')"
   ]
  },
  {
   "cell_type": "code",
   "execution_count": 11,
   "metadata": {},
   "outputs": [],
   "source": [
    "# util.check_dir(os.path.dirname(path_output_data_json))\n",
    "# util.save_json(movie_soup_element_dict, path_output=path_output_data_json)\n",
    "\n",
    "movie_soup_element_dict = util.load_json(path_output_data_json)"
   ]
  },
  {
   "cell_type": "code",
   "execution_count": null,
   "metadata": {},
   "outputs": [],
   "source": [
    "data_movie_list = []\n",
    "\n",
    "for movie_name in tqdm(movie_soup_element_dict):\n",
    "    path_movie_url = movie_soup_element_dict[movie_name]['booking_url']\n",
    "\n",
    "    movie_details = GetMovieDetails(path_movie_url=path_movie_url,\n",
    "                                    location=location, date=date,\n",
    "                                    movie_name=movie_name,\n",
    "                                    \n",
    "                                    )\n",
    "    movie_detail_df = movie_details.get_processed_df()\n",
    "    data_movie_list.append(movie_detail_df)\n",
    "\n",
    "\n",
    "data_movie_list_pd = pd.concat(data_movie_list)"
   ]
  },
  {
   "cell_type": "code",
   "execution_count": null,
   "metadata": {},
   "outputs": [],
   "source": [
    "# if os.path.exists(path_output_data_csv):\n",
    "#     data_movie_list_pd.to_csv(path_output_data_csv, index=False, mode='a', header=False)\n",
    "# else:\n",
    "#     data_movie_list_pd.to_csv(path_output_data_csv, index=False, mode='a', header=True)"
   ]
  },
  {
   "cell_type": "code",
   "execution_count": null,
   "metadata": {},
   "outputs": [],
   "source": [
    "Filters - \n",
    "1. location\n",
    "2. Movie\n",
    "3. Date \n",
    "4. Time of day\n",
    "\n",
    "Stats - \n",
    "1. Number of Movies. \n",
    "2. Number of Theaters \n",
    "3. Occupancy Chart \n",
    "\n",
    "Times Series - \n",
    "1. Number of Shows per day\n",
    "2. Price of tickets per day\n",
    "3. Occupancy rate per day\n"
   ]
  },
  {
   "cell_type": "code",
   "execution_count": 37,
   "metadata": {},
   "outputs": [
    {
     "data": {
      "text/plain": [
       "<module 'src.data_utils.data_loader' from '/Users/manish.sahu/Downloads/tiler/scrap-bookmyshow/src/data_utils/data_loader.py'>"
      ]
     },
     "execution_count": 37,
     "metadata": {},
     "output_type": "execute_result"
    }
   ],
   "source": [
    "import importlib\n",
    "\n",
    "importlib.reload(data_loader)\n"
   ]
  },
  {
   "cell_type": "code",
   "execution_count": 50,
   "metadata": {},
   "outputs": [
    {
     "data": {
      "text/plain": [
       "<module 'config.params' from '/Users/manish.sahu/Downloads/tiler/scrap-bookmyshow/config/params.py'>"
      ]
     },
     "execution_count": 50,
     "metadata": {},
     "output_type": "execute_result"
    }
   ],
   "source": [
    "from config import params\n",
    "importlib.reload(params)\n"
   ]
  },
  {
   "cell_type": "code",
   "execution_count": 79,
   "metadata": {},
   "outputs": [],
   "source": [
    "movie_city = 'national-capital-region-ncr'\n",
    "movie_name = 'jawan'\n",
    "\n",
    "path_data_dir = '/Users/manish.sahu/Downloads/tiler/scrap-bookmyshow/data'\n",
    "\n",
    "config = params.MovieConfig()\n",
    "\n",
    "movie_data_loader = data_loader.MovieDataLoder(path_data_dir)\n",
    "city_df = movie_data_loader.get_city_data(city=movie_city)"
   ]
  },
  {
   "cell_type": "code",
   "execution_count": null,
   "metadata": {},
   "outputs": [],
   "source": [
    "city_df = movie_data_loader.get_city_data(movie_city)\n",
    "movie_city_df = city_df[city_df['movie_name'] == movie_name]\n",
    "\n",
    "movie_df_one_hour = movie_city_df[movie_city_df['difference'] == 0]\n",
    "movie_df_one_hour['status'] = movie_df_one_hour['avail_status'].apply(lambda x: config.mapping_available_status.get(x))\n",
    "movie_df_one_hour['count'] = 1\n",
    "\n",
    "movie_df_one_hour_percentage = movie_df_one_hour.groupby(['status', 'Date']).agg({'count': 'sum'}).reset_index()\n",
    "total_cinema_df = movie_df_one_hour.groupby(['Date']).agg({'count': 'sum'}).reset_index()\n",
    "total_cinema_df = total_cinema_df.rename(columns={'count': 'total_cinema_count'})\n",
    "\n",
    "movie_df_one_hour_percentage = pd.merge(movie_df_one_hour_percentage, total_cinema_df, on='Date', how='left')\n",
    "movie_df_one_hour_percentage['percentage'] = movie_df_one_hour_percentage.apply(lambda x: x['count']*100//x['total_cinema_count'], axis=1)\n"
   ]
  },
  {
   "cell_type": "code",
   "execution_count": 80,
   "metadata": {},
   "outputs": [],
   "source": [
    "date = '20230917'"
   ]
  },
  {
   "cell_type": "code",
   "execution_count": 81,
   "metadata": {},
   "outputs": [],
   "source": [
    "date_city_df = movie_data_loader.get_date_data(data_df=city_df, date=date)\n"
   ]
  },
  {
   "cell_type": "code",
   "execution_count": 82,
   "metadata": {},
   "outputs": [
    {
     "data": {
      "text/html": [
       "<div>\n",
       "<style scoped>\n",
       "    .dataframe tbody tr th:only-of-type {\n",
       "        vertical-align: middle;\n",
       "    }\n",
       "\n",
       "    .dataframe tbody tr th {\n",
       "        vertical-align: top;\n",
       "    }\n",
       "\n",
       "    .dataframe thead th {\n",
       "        text-align: right;\n",
       "    }\n",
       "</style>\n",
       "<table border=\"1\" class=\"dataframe\">\n",
       "  <thead>\n",
       "    <tr style=\"text-align: right;\">\n",
       "      <th></th>\n",
       "      <th>Movies</th>\n",
       "      <th>Number of Shows</th>\n",
       "      <th>Date</th>\n",
       "    </tr>\n",
       "  </thead>\n",
       "  <tbody>\n",
       "    <tr>\n",
       "      <th>3</th>\n",
       "      <td>JAWAN</td>\n",
       "      <td>46</td>\n",
       "      <td>2023-09-17</td>\n",
       "    </tr>\n",
       "    <tr>\n",
       "      <th>4</th>\n",
       "      <td>MARK-ANTONY</td>\n",
       "      <td>28</td>\n",
       "      <td>2023-09-17</td>\n",
       "    </tr>\n",
       "    <tr>\n",
       "      <th>8</th>\n",
       "      <td>THE-NUN-II</td>\n",
       "      <td>12</td>\n",
       "      <td>2023-09-17</td>\n",
       "    </tr>\n",
       "    <tr>\n",
       "      <th>5</th>\n",
       "      <td>MISS-SHETTY-MR-POLISHETTY</td>\n",
       "      <td>10</td>\n",
       "      <td>2023-09-17</td>\n",
       "    </tr>\n",
       "    <tr>\n",
       "      <th>0</th>\n",
       "      <td>A-HAUNTING-IN-VENICE</td>\n",
       "      <td>7</td>\n",
       "      <td>2023-09-17</td>\n",
       "    </tr>\n",
       "    <tr>\n",
       "      <th>7</th>\n",
       "      <td>THE-EQUALIZER-3</td>\n",
       "      <td>6</td>\n",
       "      <td>2023-09-17</td>\n",
       "    </tr>\n",
       "    <tr>\n",
       "      <th>6</th>\n",
       "      <td>ROCKY-AUR-RANI-KII-PREM-KAHAANI</td>\n",
       "      <td>4</td>\n",
       "      <td>2023-09-17</td>\n",
       "    </tr>\n",
       "    <tr>\n",
       "      <th>1</th>\n",
       "      <td>BARBIE</td>\n",
       "      <td>3</td>\n",
       "      <td>2023-09-17</td>\n",
       "    </tr>\n",
       "    <tr>\n",
       "      <th>2</th>\n",
       "      <td>DREAM-GIRL-2</td>\n",
       "      <td>2</td>\n",
       "      <td>2023-09-17</td>\n",
       "    </tr>\n",
       "  </tbody>\n",
       "</table>\n",
       "</div>"
      ],
      "text/plain": [
       "                            Movies  Number of Shows        Date\n",
       "3                            JAWAN               46  2023-09-17\n",
       "4                      MARK-ANTONY               28  2023-09-17\n",
       "8                       THE-NUN-II               12  2023-09-17\n",
       "5        MISS-SHETTY-MR-POLISHETTY               10  2023-09-17\n",
       "0             A-HAUNTING-IN-VENICE                7  2023-09-17\n",
       "7                  THE-EQUALIZER-3                6  2023-09-17\n",
       "6  ROCKY-AUR-RANI-KII-PREM-KAHAANI                4  2023-09-17\n",
       "1                           BARBIE                3  2023-09-17\n",
       "2                     DREAM-GIRL-2                2  2023-09-17"
      ]
     },
     "execution_count": 82,
     "metadata": {},
     "output_type": "execute_result"
    }
   ],
   "source": [
    "data_movie_screen = movie_data_loader.get_movie_screen_count(\n",
    "            city_df=date_city_df)\n",
    "data_movie_screen"
   ]
  },
  {
   "cell_type": "code",
   "execution_count": 84,
   "metadata": {},
   "outputs": [],
   "source": [
    "city_df = movie_data_loader.get_city_data(movie_city)\n",
    "\n",
    "date_city_df = movie_data_loader.get_date_data(data_df=city_df, date=date)\n",
    "\n",
    "cinema_title_list = movie_data_loader.get_label_list(\n",
    "    date_city_df, label_column='cinema_title')\n",
    "\n",
    "movie_list = movie_data_loader.get_label_list(\n",
    "    date_city_df, label_column='movie_name')"
   ]
  },
  {
   "cell_type": "code",
   "execution_count": 86,
   "metadata": {},
   "outputs": [
    {
     "data": {
      "text/plain": [
       "['jawan',\n",
       " 'miss-shetty-mr-polishetty',\n",
       " 'mark-antony',\n",
       " 'a-haunting-in-venice',\n",
       " 'the-nun-ii',\n",
       " 'the-equalizer-3',\n",
       " 'rocky-aur-rani-kii-prem-kahaani',\n",
       " 'dream-girl-2',\n",
       " 'barbie']"
      ]
     },
     "execution_count": 86,
     "metadata": {},
     "output_type": "execute_result"
    }
   ],
   "source": [
    "movie_list"
   ]
  },
  {
   "cell_type": "code",
   "execution_count": null,
   "metadata": {},
   "outputs": [],
   "source": [
    "# # for holding the resultant list\n",
    "# element_list = []\n",
    "  \n",
    "# for page in range(1, 3, 1):\n",
    "    \n",
    "#     page_url = \"https://webscraper.io/test-sites/e-commerce/static/computers/laptops?page=\" + str(page)\n",
    "#     driver = webdriver.Chrome(ChromeDriverManager().install())\n",
    "#     driver.get(page_url)\n",
    "#     title = driver.find_elements_by_class_name(\"title\")\n",
    "#     price = driver.find_elements_by_class_name(\"price\")\n",
    "#     description = driver.find_elements_by_class_name(\"description\")\n",
    "#     rating = driver.find_elements_by_class_name(\"ratings\")\n",
    "  \n",
    "#     for i in range(len(title)):\n",
    "#         element_list.append([title[i].text, price[i].text, description[i].text, rating[i].text])\n",
    "  \n",
    "# print(element_list)\n",
    "  \n",
    "# #closing the driver\n",
    "# driver.close()"
   ]
  },
  {
   "cell_type": "code",
   "execution_count": null,
   "metadata": {},
   "outputs": [],
   "source": []
  },
  {
   "attachments": {},
   "cell_type": "markdown",
   "metadata": {},
   "source": [
    "### User Proxy"
   ]
  },
  {
   "cell_type": "code",
   "execution_count": 57,
   "metadata": {},
   "outputs": [],
   "source": [
    "import requests\n",
    " \n",
    "# use to parse html text\n",
    "from lxml.html import fromstring \n",
    "from itertools import cycle\n",
    "import traceback\n",
    " \n",
    " \n",
    "def to_get_proxies():\n",
    "    # website to get free proxies\n",
    "    url = 'https://free-proxy-list.net/' \n",
    " \n",
    "    response = requests.get(url)\n",
    " \n",
    "    parser = fromstring(response.text)\n",
    "    # using a set to avoid duplicate IP entries.\n",
    "    proxies = set() \n",
    " \n",
    "    for i in parser.xpath('//tbody/tr')[:10]:\n",
    " \n",
    "        # to check if the corresponding IP is of type HTTPS\n",
    "        if i.xpath('.//td[7][contains(text(),\"yes\")]'):\n",
    " \n",
    "            # Grabbing IP and corresponding PORT\n",
    "            proxy = \":\".join([i.xpath('.//td[1]/text()')[0],\n",
    "                              i.xpath('.//td[2]/text()')[0]])\n",
    " \n",
    "            proxies.add(proxy)\n",
    "        return proxies"
   ]
  },
  {
   "cell_type": "code",
   "execution_count": null,
   "metadata": {},
   "outputs": [],
   "source": [
    "proxies = to_get_proxies()\n",
    " \n",
    "# to rotate through the list of IPs\n",
    "proxyPool = cycle(proxies) \n",
    " \n",
    "# insert the url of the website you want to scrape.\n",
    "url = '' \n",
    " \n",
    "for i in range(1, 11):\n",
    " \n",
    "    # Get a proxy from the pool\n",
    "    proxy = next(proxyPool)\n",
    "    print(\"Request #%d\" % i)\n",
    " \n",
    "    try:\n",
    "        response = requests.get(url, proxies={\"http\": proxy, \"https\": proxy})\n",
    "        print(response.json())\n",
    " \n",
    "    except:\n",
    "       \n",
    "        # One has to try the entire process as most\n",
    "        # free proxies will get connection errors\n",
    "        # We will just skip retries.\n",
    "        print(\"Skipping.  Connection error\")"
   ]
  },
  {
   "cell_type": "code",
   "execution_count": 61,
   "metadata": {},
   "outputs": [],
   "source": [
    "from fake_useragent import UserAgent\n",
    "ua = UserAgent()"
   ]
  },
  {
   "cell_type": "code",
   "execution_count": 64,
   "metadata": {},
   "outputs": [
    {
     "name": "stdout",
     "output_type": "stream",
     "text": [
      "Mozilla/5.0 (X11; Linux x86_64) AppleWebKit/537.36 (KHTML, like Gecko) Chrome/115.0.0.0 Safari/537.36\n"
     ]
    }
   ],
   "source": [
    "print(ua['google chrome'])\n"
   ]
  },
  {
   "cell_type": "code",
   "execution_count": null,
   "metadata": {},
   "outputs": [],
   "source": []
  },
  {
   "cell_type": "code",
   "execution_count": null,
   "metadata": {},
   "outputs": [],
   "source": []
  }
 ],
 "metadata": {
  "kernelspec": {
   "display_name": "py38",
   "language": "python",
   "name": "python3"
  },
  "language_info": {
   "codemirror_mode": {
    "name": "ipython",
    "version": 3
   },
   "file_extension": ".py",
   "mimetype": "text/x-python",
   "name": "python",
   "nbconvert_exporter": "python",
   "pygments_lexer": "ipython3",
   "version": "3.9.6"
  },
  "orig_nbformat": 4,
  "vscode": {
   "interpreter": {
    "hash": "f8daa8cf081d519e6115328af5c7835761d6871f4279c0a8b79269c22be2bb60"
   }
  }
 },
 "nbformat": 4,
 "nbformat_minor": 2
}
