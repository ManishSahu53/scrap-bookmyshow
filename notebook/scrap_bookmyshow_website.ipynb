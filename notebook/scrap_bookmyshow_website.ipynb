{
 "cells": [
  {
   "cell_type": "code",
   "execution_count": 1,
   "metadata": {},
   "outputs": [],
   "source": [
    "import os\n",
    "import re\n",
    "os.chdir('../')"
   ]
  },
  {
   "cell_type": "code",
   "execution_count": 25,
   "metadata": {},
   "outputs": [],
   "source": [
    "import json\n",
    "import time\n",
    "import requests\n",
    "import numpy as np\n",
    "import pandas as pd\n",
    "\n",
    "from tqdm import tqdm\n",
    "from bs4 import BeautifulSoup\n",
    "import matplotlib.pyplot as plt\n",
    "\n",
    "from selenium import webdriver\n",
    "from selenium.webdriver.common.by import By\n",
    "from webdriver_manager.chrome import ChromeDriverManager\n",
    "  "
   ]
  },
  {
   "cell_type": "code",
   "execution_count": 4,
   "metadata": {},
   "outputs": [],
   "source": [
    "from src.general_utils import util"
   ]
  },
  {
   "cell_type": "code",
   "execution_count": 5,
   "metadata": {},
   "outputs": [],
   "source": [
    "cities = [\n",
    "    'bengaluru',\n",
    "    # 'national-capital-region-ncr',\n",
    "]"
   ]
  },
  {
   "cell_type": "code",
   "execution_count": 26,
   "metadata": {},
   "outputs": [],
   "source": [
    "class GetMovieDetails:\n",
    "    def __init__(self, path_movie_url, movie_name, date, location):\n",
    "        \n",
    "        self.path_movie_url = path_movie_url   \n",
    "        self.movie_name = movie_name \n",
    "        self.date = date\n",
    "        self.location = location\n",
    "        self.formatted_time = self._get_current_time()\n",
    "\n",
    "    def _get_current_time(self):\n",
    "        # Get the current time in seconds since the epoch\n",
    "        current_time_seconds = time.time()\n",
    "\n",
    "        # Convert seconds since the epoch to a time structure\n",
    "        time_struct = time.localtime(current_time_seconds)\n",
    "\n",
    "        # Format the time in 24-hour format (HH:MM:SS)\n",
    "        formatted_time = time.strftime(\"%H:%M\", time_struct)\n",
    "        return formatted_time\n",
    "    \n",
    "    def _get_header(self):\n",
    "        headers = {\n",
    "                'Referer': 'https://in.bookmyshow.com/explore/movies-bengaluru?languages=hindi',\n",
    "                'sec-ch-ua': '\"Not_A Brand\";v=\"99\", \"Google Chrome\";v=\"109\", \"Chromium\";v=\"109\"',\n",
    "                'sec-ch-ua-mobile': '?0',\n",
    "                'sec-ch-ua-platform': \"Linux\",\n",
    "                'User-Agent': 'Mozilla/5.0 (X11; Linux x86_64) AppleWebKit/537.36 (KHTML, like Gecko) Chrome/109.0.0.0 Safari/537.36',\n",
    "                }\n",
    "        return headers\n",
    "        \n",
    "    \n",
    "    def _get_chrome_driver(self):\n",
    "        # driver = webdriver.Chrome(ChromeDriverManager().install())\n",
    "        driver = webdriver.Chrome()\n",
    "        driver.get(self.path_movie_url)\n",
    "        return driver\n",
    "\n",
    "    \n",
    "    def convert_to_json(self, data_categories:str):\n",
    "        return json.loads(data_categories)\n",
    "\n",
    "    def get_price(self, data_json):\n",
    "        return data_json.get('price')\n",
    "\n",
    "    def get_desc(self, data_json):\n",
    "        return data_json.get('desc')\n",
    "\n",
    "    def get_availability_class(self, data_json):\n",
    "        return data_json.get('availabilityClass')\n",
    "\n",
    "    def get_availStatus(self, data_json):\n",
    "        return data_json.get('availStatus')\n",
    "\n",
    "    def get_processed_df(self):\n",
    "        driver = self._get_chrome_driver()\n",
    "        \n",
    "        print(driver)\n",
    "        theatre_element_list = driver.find_elements(By.CLASS_NAME, 'list')\n",
    "        print(f'Number of theatres : {len(theatre_element_list)}')\n",
    "\n",
    "        data = []\n",
    "\n",
    "        for i, a in tqdm(enumerate(theatre_element_list)):\n",
    "            try:\n",
    "                titles = a.find_element(By.CLASS_NAME, '__title')\n",
    "                listing_info = a.find_elements(By.CLASS_NAME, 'listing-info')\n",
    "                showtimes = a.find_elements(By.CLASS_NAME, 'showtime-pill')\n",
    "\n",
    "                for s in showtimes:\n",
    "\n",
    "                    data_categories = self.convert_to_json(s.get_attribute('data-categories'))\n",
    "                    timings = s.get_attribute('data-date-time')\n",
    "\n",
    "                    temp_data = {\n",
    "                        'cinema_title' : titles.text,\n",
    "                        'timings': timings,\n",
    "                        'latitude': a.get_attribute('data-lat'),\n",
    "                        'longtitude' : a.get_attribute('data-lng'),\n",
    "\n",
    "                        'price': self.get_price(data_categories),\n",
    "                        'description': self.get_desc(data_categories),\n",
    "\n",
    "                        'availability_class': self.get_availability_class(data_categories),\n",
    "                        'avail_status': self.get_availStatus(data_categories),\n",
    "                        'movie_name' : self.movie_name,\n",
    "                        'date' : self.date,\n",
    "                        'location' : self.location,\n",
    "                        'checked_time' : self.formatted_time,\n",
    "                    }\n",
    "                    \n",
    "                    data.append(temp_data)\n",
    "\n",
    "                # b.find_element('showtime-pill')\n",
    "            except:\n",
    "                print(i)\n",
    "\n",
    "        \n",
    "        data_df = pd.DataFrame(data)\n",
    "\n",
    "        return data_df\n",
    "        "
   ]
  },
  {
   "cell_type": "code",
   "execution_count": 9,
   "metadata": {},
   "outputs": [],
   "source": [
    "class GetMoviesList:\n",
    "    def __init__(self, path_movie_list_url, location, date):\n",
    "        self.date = date\n",
    "        self.location = location\n",
    "        self.path_movie_list_url = path_movie_list_url    \n",
    "        self.movie_ahref_string = f'https://in.bookmyshow.com/{location}/movies'\n",
    "\n",
    "    def _get_header(self):\n",
    "        headers = {\n",
    "                'Referer': 'https://in.bookmyshow.com/explore/movies-bengaluru?languages=hindi',\n",
    "                'sec-ch-ua': '\"Not_A Brand\";v=\"99\", \"Google Chrome\";v=\"109\", \"Chromium\";v=\"109\"',\n",
    "                'sec-ch-ua-mobile': '?0',\n",
    "                'sec-ch-ua-platform': \"Linux\",\n",
    "                'User-Agent': 'Mozilla/5.0 (X11; Linux x86_64) AppleWebKit/537.36 (KHTML, like Gecko) Chrome/109.0.0.0 Safari/537.36',\n",
    "                }\n",
    "        return headers\n",
    "\n",
    "    def _get_chrome_driver(self):\n",
    "        # driver = webdriver.Chrome(ChromeDriverManager().install())\n",
    "        driver = webdriver.Chrome()\n",
    "        driver.get(self.path_movie_list_url)\n",
    "        \n",
    "        # Scroll to buttom slowly to load all movies\n",
    "        driver.execute_async_script(\n",
    "            \"\"\"\n",
    "        count = 400;\n",
    "        let callback = arguments[arguments.length - 1];\n",
    "        t = setTimeout(function scrolldown(){\n",
    "            console.log(count, t);\n",
    "            window.scrollTo(0, count);\n",
    "            if(count < (document.body.scrollHeight || document.documentElement.scrollHeight)){\n",
    "              count+= 400;\n",
    "              t = setTimeout(scrolldown, 1000);\n",
    "            }else{\n",
    "              callback((document.body.scrollHeight || document.documentElement.scrollHeight));\n",
    "            }\n",
    "        }, 1000);\"\"\"\n",
    "        )\n",
    "        return driver\n",
    "    \n",
    "    def parse_drive_to_soup(self, driver):\n",
    "        soup = BeautifulSoup(driver.page_source, 'html.parser')\n",
    "        return soup\n",
    "    \n",
    "    def get_all_current_movie_list(self, soup):\n",
    "        \n",
    "        movie_soup_element_dict = {}\n",
    "        \n",
    "        movie_tags_list = [a for a in soup.find_all('a', href=True) if self.movie_ahref_string in a['href']]\n",
    "        \n",
    "        # Extract movie names from the URLs\n",
    "        movie_names = []\n",
    "        for link in movie_tags_list:\n",
    "            # Extract the movie name from the URL\n",
    "            movie_name_match = re.search(r'.*/movies/(.*)/ET.*', link['href'])\n",
    "            if movie_name_match:\n",
    "                movie_name = movie_name_match.group(1)\n",
    "                movie_names.append(movie_name)\n",
    "\n",
    "                movie_url = link['href']\n",
    "                movie_url_basename = movie_url.split('/')[-1]\n",
    "                \n",
    "                movie_booking_url = f'https://in.bookmyshow.com/buytickets/{movie_name}-{self.location}/movie-bang-{movie_url_basename}-MT/{self.date}'\n",
    "\n",
    "                movie_soup_element_dict[movie_name] = {\n",
    "                    # 'element': link,\n",
    "                    'url': movie_url,\n",
    "                    'name': movie_name,\n",
    "                    'booking_url' : movie_booking_url,\n",
    "                    'date': self.date,\n",
    "                    'location' : self.location,\n",
    "                }\n",
    "            \n",
    "        # # Print the movie names\n",
    "        # for movie_name in movie_names:\n",
    "        #     print(\"Movie Name:\", movie_name)\n",
    "\n",
    "        \n",
    "        print(f'Number of movies running: {len(movie_names)}')\n",
    "        return movie_soup_element_dict\n",
    "        \n",
    "    def generate(self):\n",
    "        driver = self._get_chrome_driver()\n",
    "        soup = self.parse_drive_to_soup(driver)\n",
    "        movie_soup_element_dict  = self.get_all_current_movie_list(soup)\n",
    "        \n",
    "        return movie_soup_element_dict"
   ]
  },
  {
   "cell_type": "code",
   "execution_count": 12,
   "metadata": {},
   "outputs": [
    {
     "name": "stdout",
     "output_type": "stream",
     "text": [
      "Number of movies running: 27\n"
     ]
    }
   ],
   "source": [
    "location = 'bengaluru'\n",
    "date = '20230916'\n",
    "path_movie_list_url = f'https://in.bookmyshow.com/explore/movies-{location}'\n",
    "movie_list_instance = GetMoviesList(path_movie_list_url=path_movie_list_url, location=location, date=date)\n",
    "movie_soup_element_dict = movie_list_instance.generate()"
   ]
  },
  {
   "cell_type": "code",
   "execution_count": 13,
   "metadata": {},
   "outputs": [],
   "source": [
    "path_output = f'data/{location}_scrapped_{date}.json'\n",
    "util.save_json(movie_soup_element_dict, path_output=path_output)"
   ]
  },
  {
   "cell_type": "code",
   "execution_count": 15,
   "metadata": {},
   "outputs": [
    {
     "name": "stderr",
     "output_type": "stream",
     "text": [
      "  0%|          | 0/27 [00:00<?, ?it/s]"
     ]
    },
    {
     "name": "stdout",
     "output_type": "stream",
     "text": [
      "<selenium.webdriver.chrome.webdriver.WebDriver (session=\"4d51a17dd2c99c98f64192cf1df8a36c\")>\n",
      "Number of theatres : 48\n"
     ]
    },
    {
     "name": "stderr",
     "output_type": "stream",
     "text": []
    },
    {
     "name": "stdout",
     "output_type": "stream",
     "text": [
      "0\n",
      "1\n",
      "2\n",
      "3\n",
      "4\n",
      "5\n"
     ]
    },
    {
     "name": "stderr",
     "output_type": "stream",
     "text": [
      "48it [00:02, 19.49it/s]\n",
      "  4%|▎         | 1/27 [00:18<07:51, 18.14s/it]"
     ]
    },
    {
     "name": "stdout",
     "output_type": "stream",
     "text": [
      "46\n",
      "47\n",
      "<selenium.webdriver.chrome.webdriver.WebDriver (session=\"86cb2cd6a6fee1c2ce91549be26649ab\")>\n",
      "Number of theatres : 97\n"
     ]
    },
    {
     "name": "stderr",
     "output_type": "stream",
     "text": []
    },
    {
     "name": "stdout",
     "output_type": "stream",
     "text": [
      "0\n",
      "1\n",
      "2\n",
      "3\n",
      "4\n",
      "5\n"
     ]
    },
    {
     "name": "stderr",
     "output_type": "stream",
     "text": [
      "97it [00:12,  7.83it/s]\n",
      "  7%|▋         | 2/27 [00:44<09:30, 22.82s/it]"
     ]
    },
    {
     "name": "stdout",
     "output_type": "stream",
     "text": [
      "95\n",
      "96\n",
      "<selenium.webdriver.chrome.webdriver.WebDriver (session=\"7b9a52a3abaab4d6e01acca1a8e96cee\")>\n",
      "Number of theatres : 93\n"
     ]
    },
    {
     "name": "stderr",
     "output_type": "stream",
     "text": []
    },
    {
     "name": "stdout",
     "output_type": "stream",
     "text": [
      "0\n",
      "1\n",
      "2\n",
      "3\n",
      "4\n",
      "5\n"
     ]
    },
    {
     "name": "stderr",
     "output_type": "stream",
     "text": [
      "93it [00:06, 13.57it/s]\n",
      " 11%|█         | 3/27 [01:06<09:03, 22.66s/it]"
     ]
    },
    {
     "name": "stdout",
     "output_type": "stream",
     "text": [
      "91\n",
      "92\n",
      "<selenium.webdriver.chrome.webdriver.WebDriver (session=\"03a2ec146124f21f7271ea09ce9bc588\")>\n",
      "Number of theatres : 68\n"
     ]
    },
    {
     "name": "stderr",
     "output_type": "stream",
     "text": []
    },
    {
     "name": "stdout",
     "output_type": "stream",
     "text": [
      "0\n",
      "1\n",
      "2\n",
      "3\n",
      "4\n",
      "5\n"
     ]
    },
    {
     "name": "stderr",
     "output_type": "stream",
     "text": []
    },
    {
     "name": "stdout",
     "output_type": "stream",
     "text": [
      "34\n"
     ]
    },
    {
     "name": "stderr",
     "output_type": "stream",
     "text": [
      "68it [00:04, 15.93it/s]\n",
      " 15%|█▍        | 4/27 [01:25<08:10, 21.32s/it]"
     ]
    },
    {
     "name": "stdout",
     "output_type": "stream",
     "text": [
      "66\n",
      "67\n",
      "<selenium.webdriver.chrome.webdriver.WebDriver (session=\"57e45ebfa84a7eca01388900eb0fc78f\")>\n",
      "Number of theatres : 57\n"
     ]
    },
    {
     "name": "stderr",
     "output_type": "stream",
     "text": []
    },
    {
     "name": "stdout",
     "output_type": "stream",
     "text": [
      "0\n",
      "1\n",
      "2\n",
      "3\n",
      "4\n",
      "5\n"
     ]
    },
    {
     "name": "stderr",
     "output_type": "stream",
     "text": [
      "57it [00:02, 19.18it/s]\n",
      " 19%|█▊        | 5/27 [01:48<08:00, 21.85s/it]"
     ]
    },
    {
     "name": "stdout",
     "output_type": "stream",
     "text": [
      "55\n",
      "56\n",
      "<selenium.webdriver.chrome.webdriver.WebDriver (session=\"6e264ba505924fcc62f1618526aa3398\")>\n",
      "Number of theatres : 47\n"
     ]
    },
    {
     "name": "stderr",
     "output_type": "stream",
     "text": []
    },
    {
     "name": "stdout",
     "output_type": "stream",
     "text": [
      "0\n",
      "1\n",
      "2\n",
      "3\n",
      "4\n",
      "5\n"
     ]
    },
    {
     "name": "stderr",
     "output_type": "stream",
     "text": [
      "47it [00:02, 19.79it/s]\n",
      " 22%|██▏       | 6/27 [02:10<07:35, 21.71s/it]"
     ]
    },
    {
     "name": "stdout",
     "output_type": "stream",
     "text": [
      "45\n",
      "46\n",
      "<selenium.webdriver.chrome.webdriver.WebDriver (session=\"2ab71785a5f4ea005b9a9354c5b86a8d\")>\n",
      "Number of theatres : 35\n"
     ]
    },
    {
     "name": "stderr",
     "output_type": "stream",
     "text": []
    },
    {
     "name": "stdout",
     "output_type": "stream",
     "text": [
      "0\n",
      "1\n",
      "2\n",
      "3\n",
      "4\n",
      "5\n"
     ]
    },
    {
     "name": "stderr",
     "output_type": "stream",
     "text": [
      "35it [00:01, 21.65it/s]\n",
      " 26%|██▌       | 7/27 [02:31<07:10, 21.51s/it]"
     ]
    },
    {
     "name": "stdout",
     "output_type": "stream",
     "text": [
      "33\n",
      "34\n",
      "<selenium.webdriver.chrome.webdriver.WebDriver (session=\"ea1cdd9a5abbef6f2154e2b1ff7e6091\")>\n",
      "Number of theatres : 19\n"
     ]
    },
    {
     "name": "stderr",
     "output_type": "stream",
     "text": []
    },
    {
     "name": "stdout",
     "output_type": "stream",
     "text": [
      "0\n",
      "1\n",
      "2\n",
      "3\n",
      "4\n",
      "5\n"
     ]
    },
    {
     "name": "stderr",
     "output_type": "stream",
     "text": [
      "19it [00:00, 34.28it/s]\n",
      " 30%|██▉       | 8/27 [02:46<06:08, 19.38s/it]"
     ]
    },
    {
     "name": "stdout",
     "output_type": "stream",
     "text": [
      "17\n",
      "18\n",
      "<selenium.webdriver.chrome.webdriver.WebDriver (session=\"2de1cf070f769e32ba071db319191c00\")>\n",
      "Number of theatres : 21\n"
     ]
    },
    {
     "name": "stderr",
     "output_type": "stream",
     "text": []
    },
    {
     "name": "stdout",
     "output_type": "stream",
     "text": [
      "0\n",
      "1\n",
      "2\n",
      "3\n",
      "4\n",
      "5\n"
     ]
    },
    {
     "name": "stderr",
     "output_type": "stream",
     "text": [
      "21it [00:00, 35.08it/s]\n",
      " 33%|███▎      | 9/27 [03:03<05:35, 18.62s/it]"
     ]
    },
    {
     "name": "stdout",
     "output_type": "stream",
     "text": [
      "19\n",
      "20\n",
      "<selenium.webdriver.chrome.webdriver.WebDriver (session=\"2bb01f6dcb09a473745f4dafac0e2c38\")>\n",
      "Number of theatres : 12\n"
     ]
    },
    {
     "name": "stderr",
     "output_type": "stream",
     "text": []
    },
    {
     "name": "stdout",
     "output_type": "stream",
     "text": [
      "0\n",
      "1\n",
      "2\n",
      "3\n",
      "4\n",
      "5\n"
     ]
    },
    {
     "name": "stderr",
     "output_type": "stream",
     "text": [
      "12it [00:00, 40.53it/s]\n",
      " 37%|███▋      | 10/27 [03:20<05:11, 18.34s/it]"
     ]
    },
    {
     "name": "stdout",
     "output_type": "stream",
     "text": [
      "10\n",
      "11\n",
      "<selenium.webdriver.chrome.webdriver.WebDriver (session=\"f5dc9ec6e528285b9d1052ba07bea101\")>\n",
      "Number of theatres : 11\n"
     ]
    },
    {
     "name": "stderr",
     "output_type": "stream",
     "text": []
    },
    {
     "name": "stdout",
     "output_type": "stream",
     "text": [
      "0\n",
      "1\n",
      "2\n",
      "3\n",
      "4\n",
      "5\n"
     ]
    },
    {
     "name": "stderr",
     "output_type": "stream",
     "text": [
      "11it [00:00, 55.23it/s]\n"
     ]
    },
    {
     "name": "stdout",
     "output_type": "stream",
     "text": [
      "9\n",
      "10\n"
     ]
    },
    {
     "name": "stderr",
     "output_type": "stream",
     "text": [
      " 41%|████      | 11/27 [03:38<04:49, 18.09s/it]"
     ]
    },
    {
     "name": "stdout",
     "output_type": "stream",
     "text": [
      "<selenium.webdriver.chrome.webdriver.WebDriver (session=\"87927b790414a879dae8db8d825817c9\")>\n",
      "Number of theatres : 21\n"
     ]
    },
    {
     "name": "stderr",
     "output_type": "stream",
     "text": []
    },
    {
     "name": "stdout",
     "output_type": "stream",
     "text": [
      "0\n",
      "1\n",
      "2\n",
      "3\n",
      "4\n",
      "5\n"
     ]
    },
    {
     "name": "stderr",
     "output_type": "stream",
     "text": [
      "21it [00:00, 36.28it/s]\n",
      " 44%|████▍     | 12/27 [04:01<04:52, 19.53s/it]"
     ]
    },
    {
     "name": "stdout",
     "output_type": "stream",
     "text": [
      "19\n",
      "20\n",
      "<selenium.webdriver.chrome.webdriver.WebDriver (session=\"e3eacf7efeeaed1dd936d986749d6580\")>\n",
      "Number of theatres : 18\n"
     ]
    },
    {
     "name": "stderr",
     "output_type": "stream",
     "text": []
    },
    {
     "name": "stdout",
     "output_type": "stream",
     "text": [
      "0\n",
      "1\n",
      "2\n",
      "3\n",
      "4\n",
      "5\n"
     ]
    },
    {
     "name": "stderr",
     "output_type": "stream",
     "text": [
      "18it [00:00, 38.38it/s]\n",
      " 48%|████▊     | 13/27 [04:26<04:56, 21.18s/it]"
     ]
    },
    {
     "name": "stdout",
     "output_type": "stream",
     "text": [
      "16\n",
      "17\n",
      "<selenium.webdriver.chrome.webdriver.WebDriver (session=\"f39cab37dc5df00ba0c6f8f0b322fb1b\")>\n",
      "Number of theatres : 20\n"
     ]
    },
    {
     "name": "stderr",
     "output_type": "stream",
     "text": []
    },
    {
     "name": "stdout",
     "output_type": "stream",
     "text": [
      "0\n",
      "1\n",
      "2\n",
      "3\n",
      "4\n",
      "5\n"
     ]
    },
    {
     "name": "stderr",
     "output_type": "stream",
     "text": [
      "20it [00:00, 39.28it/s]\n",
      " 52%|█████▏    | 14/27 [04:42<04:14, 19.60s/it]"
     ]
    },
    {
     "name": "stdout",
     "output_type": "stream",
     "text": [
      "18\n",
      "19\n",
      "<selenium.webdriver.chrome.webdriver.WebDriver (session=\"e7afa08afb392d2bf214049339b72b9c\")>\n",
      "Number of theatres : 16\n"
     ]
    },
    {
     "name": "stderr",
     "output_type": "stream",
     "text": []
    },
    {
     "name": "stdout",
     "output_type": "stream",
     "text": [
      "0\n",
      "1\n",
      "2\n",
      "3\n",
      "4\n",
      "5\n"
     ]
    },
    {
     "name": "stderr",
     "output_type": "stream",
     "text": [
      "16it [00:00, 34.86it/s]\n",
      " 56%|█████▌    | 15/27 [04:56<03:36, 18.08s/it]"
     ]
    },
    {
     "name": "stdout",
     "output_type": "stream",
     "text": [
      "14\n",
      "15\n",
      "<selenium.webdriver.chrome.webdriver.WebDriver (session=\"a6d5d97112704c2630353d3f260a3dc9\")>\n",
      "Number of theatres : 18\n"
     ]
    },
    {
     "name": "stderr",
     "output_type": "stream",
     "text": []
    },
    {
     "name": "stdout",
     "output_type": "stream",
     "text": [
      "0\n",
      "1\n",
      "2\n",
      "3\n",
      "4\n",
      "5\n"
     ]
    },
    {
     "name": "stderr",
     "output_type": "stream",
     "text": [
      "18it [00:00, 39.80it/s]\n",
      " 59%|█████▉    | 16/27 [05:12<03:11, 17.43s/it]"
     ]
    },
    {
     "name": "stdout",
     "output_type": "stream",
     "text": [
      "16\n",
      "17\n",
      "<selenium.webdriver.chrome.webdriver.WebDriver (session=\"77e219013ff26ba5f8e0ed496b1cfd69\")>\n",
      "Number of theatres : 16\n"
     ]
    },
    {
     "name": "stderr",
     "output_type": "stream",
     "text": []
    },
    {
     "name": "stdout",
     "output_type": "stream",
     "text": [
      "0\n",
      "1\n",
      "2\n",
      "3\n",
      "4\n",
      "5\n"
     ]
    },
    {
     "name": "stderr",
     "output_type": "stream",
     "text": [
      "16it [00:00, 39.59it/s]\n",
      " 63%|██████▎   | 17/27 [05:25<02:40, 16.07s/it]"
     ]
    },
    {
     "name": "stdout",
     "output_type": "stream",
     "text": [
      "14\n",
      "15\n",
      "<selenium.webdriver.chrome.webdriver.WebDriver (session=\"33249f1bdec4a45ebff8ce75fec387fc\")>\n",
      "Number of theatres : 14\n"
     ]
    },
    {
     "name": "stderr",
     "output_type": "stream",
     "text": []
    },
    {
     "name": "stdout",
     "output_type": "stream",
     "text": [
      "0\n",
      "1\n",
      "2\n",
      "3\n",
      "4\n",
      "5\n"
     ]
    },
    {
     "name": "stderr",
     "output_type": "stream",
     "text": [
      "14it [00:00, 41.87it/s]\n",
      " 67%|██████▋   | 18/27 [05:43<02:29, 16.58s/it]"
     ]
    },
    {
     "name": "stdout",
     "output_type": "stream",
     "text": [
      "12\n",
      "13\n",
      "<selenium.webdriver.chrome.webdriver.WebDriver (session=\"9ea88d0ced5b786d3cbe6b207d5917b5\")>\n",
      "Number of theatres : 13\n"
     ]
    },
    {
     "name": "stderr",
     "output_type": "stream",
     "text": []
    },
    {
     "name": "stdout",
     "output_type": "stream",
     "text": [
      "0\n",
      "1\n",
      "2\n",
      "3\n",
      "4\n",
      "5\n"
     ]
    },
    {
     "name": "stderr",
     "output_type": "stream",
     "text": [
      "13it [00:00, 45.27it/s]\n",
      " 70%|███████   | 19/27 [06:04<02:23, 17.98s/it]"
     ]
    },
    {
     "name": "stdout",
     "output_type": "stream",
     "text": [
      "11\n",
      "12\n",
      "<selenium.webdriver.chrome.webdriver.WebDriver (session=\"438bfd5adb1aa4f028707e5233a47dec\")>\n",
      "Number of theatres : 12\n"
     ]
    },
    {
     "name": "stderr",
     "output_type": "stream",
     "text": []
    },
    {
     "name": "stdout",
     "output_type": "stream",
     "text": [
      "0\n",
      "1\n",
      "2\n",
      "3\n",
      "4\n",
      "5\n",
      "10\n"
     ]
    },
    {
     "name": "stderr",
     "output_type": "stream",
     "text": [
      "12it [00:00, 57.71it/s]\n",
      " 74%|███████▍  | 20/27 [06:20<02:01, 17.38s/it]"
     ]
    },
    {
     "name": "stdout",
     "output_type": "stream",
     "text": [
      "11\n",
      "<selenium.webdriver.chrome.webdriver.WebDriver (session=\"ad2ef4adf46b96220c671bc45cce3a29\")>\n",
      "Number of theatres : 11\n"
     ]
    },
    {
     "name": "stderr",
     "output_type": "stream",
     "text": [
      "11it [00:00, 58.75it/s]"
     ]
    },
    {
     "name": "stdout",
     "output_type": "stream",
     "text": [
      "0\n",
      "1\n",
      "2\n",
      "3\n",
      "4\n",
      "5\n",
      "9\n",
      "10\n"
     ]
    },
    {
     "name": "stderr",
     "output_type": "stream",
     "text": [
      "\n",
      " 78%|███████▊  | 21/27 [06:35<01:40, 16.67s/it]"
     ]
    },
    {
     "name": "stdout",
     "output_type": "stream",
     "text": [
      "<selenium.webdriver.chrome.webdriver.WebDriver (session=\"ff90afc77d3cdbf4d18e3363534c8f7b\")>\n",
      "Number of theatres : 12\n"
     ]
    },
    {
     "name": "stderr",
     "output_type": "stream",
     "text": []
    },
    {
     "name": "stdout",
     "output_type": "stream",
     "text": [
      "0\n",
      "1\n",
      "2\n",
      "3\n",
      "4\n",
      "5\n"
     ]
    },
    {
     "name": "stderr",
     "output_type": "stream",
     "text": [
      "12it [00:00, 49.34it/s]\n",
      " 81%|████████▏ | 22/27 [06:51<01:22, 16.50s/it]"
     ]
    },
    {
     "name": "stdout",
     "output_type": "stream",
     "text": [
      "10\n",
      "11\n",
      "<selenium.webdriver.chrome.webdriver.WebDriver (session=\"f0c7eef84208d88290761aaa71907354\")>\n",
      "Number of theatres : 11\n"
     ]
    },
    {
     "name": "stderr",
     "output_type": "stream",
     "text": []
    },
    {
     "name": "stdout",
     "output_type": "stream",
     "text": [
      "0\n",
      "1\n",
      "2\n",
      "3\n",
      "4\n",
      "5\n"
     ]
    },
    {
     "name": "stderr",
     "output_type": "stream",
     "text": [
      "11it [00:00, 54.65it/s]"
     ]
    },
    {
     "name": "stdout",
     "output_type": "stream",
     "text": [
      "9\n",
      "10\n"
     ]
    },
    {
     "name": "stderr",
     "output_type": "stream",
     "text": [
      "\n",
      " 85%|████████▌ | 23/27 [07:16<01:15, 18.93s/it]"
     ]
    },
    {
     "name": "stdout",
     "output_type": "stream",
     "text": [
      "<selenium.webdriver.chrome.webdriver.WebDriver (session=\"1ee4c4f56982681442b7c2a47a9b40f8\")>\n",
      "Number of theatres : 10\n"
     ]
    },
    {
     "name": "stderr",
     "output_type": "stream",
     "text": [
      "10it [00:00, 66.03it/s]"
     ]
    },
    {
     "name": "stdout",
     "output_type": "stream",
     "text": [
      "0\n",
      "1\n",
      "2\n",
      "3\n",
      "4\n",
      "5\n",
      "8\n",
      "9\n"
     ]
    },
    {
     "name": "stderr",
     "output_type": "stream",
     "text": [
      "\n",
      " 89%|████████▉ | 24/27 [07:30<00:53, 17.68s/it]"
     ]
    },
    {
     "name": "stdout",
     "output_type": "stream",
     "text": [
      "<selenium.webdriver.chrome.webdriver.WebDriver (session=\"07b75db787d86f494f1874c33196bf38\")>\n",
      "Number of theatres : 9\n"
     ]
    },
    {
     "name": "stderr",
     "output_type": "stream",
     "text": [
      "9it [00:00, 87.78it/s]\n",
      " 93%|█████████▎| 25/27 [07:46<00:34, 17.07s/it]"
     ]
    },
    {
     "name": "stdout",
     "output_type": "stream",
     "text": [
      "0\n",
      "1\n",
      "2\n",
      "3\n",
      "4\n",
      "5\n",
      "7\n",
      "8\n",
      "<selenium.webdriver.chrome.webdriver.WebDriver (session=\"42158a4e85cf5c90c65795debdb239e0\")>\n",
      "Number of theatres : 12\n"
     ]
    },
    {
     "name": "stderr",
     "output_type": "stream",
     "text": []
    },
    {
     "name": "stdout",
     "output_type": "stream",
     "text": [
      "0\n",
      "1\n",
      "2\n",
      "3\n",
      "4\n",
      "5\n"
     ]
    },
    {
     "name": "stderr",
     "output_type": "stream",
     "text": [
      "12it [00:00, 46.45it/s]\n",
      " 96%|█████████▋| 26/27 [07:59<00:15, 15.96s/it]"
     ]
    },
    {
     "name": "stdout",
     "output_type": "stream",
     "text": [
      "10\n",
      "11\n",
      "<selenium.webdriver.chrome.webdriver.WebDriver (session=\"416b5da3439ac3b4a1c5b2a9cb88a944\")>\n",
      "Number of theatres : 9\n"
     ]
    },
    {
     "name": "stderr",
     "output_type": "stream",
     "text": [
      "9it [00:00, 88.27it/s]\n",
      "100%|██████████| 27/27 [08:16<00:00, 18.37s/it]"
     ]
    },
    {
     "name": "stdout",
     "output_type": "stream",
     "text": [
      "0\n",
      "1\n",
      "2\n",
      "3\n",
      "4\n",
      "5\n",
      "7\n",
      "8\n"
     ]
    },
    {
     "name": "stderr",
     "output_type": "stream",
     "text": [
      "\n"
     ]
    }
   ],
   "source": [
    "data_movie_list = []\n",
    "\n",
    "for movie_name in tqdm(movie_soup_element_dict):\n",
    "    path_movie_url = movie_soup_element_dict[movie_name]['booking_url']\n",
    "\n",
    "    movie_details = GetMovieDetails(path_movie_url=path_movie_url,\n",
    "                                    location=location, date=date,\n",
    "                                    movie_name=movie_name,\n",
    "                                    \n",
    "                                    )\n",
    "    movie_detail_df = movie_details.get_processed_df()\n",
    "    data_movie_list.append(movie_detail_df)\n"
   ]
  },
  {
   "cell_type": "code",
   "execution_count": 17,
   "metadata": {},
   "outputs": [],
   "source": [
    "data_movie_list_pd = pd.concat(data_movie_list)"
   ]
  },
  {
   "cell_type": "code",
   "execution_count": 18,
   "metadata": {},
   "outputs": [
    {
     "data": {
      "text/html": [
       "<div>\n",
       "<style scoped>\n",
       "    .dataframe tbody tr th:only-of-type {\n",
       "        vertical-align: middle;\n",
       "    }\n",
       "\n",
       "    .dataframe tbody tr th {\n",
       "        vertical-align: top;\n",
       "    }\n",
       "\n",
       "    .dataframe thead th {\n",
       "        text-align: right;\n",
       "    }\n",
       "</style>\n",
       "<table border=\"1\" class=\"dataframe\">\n",
       "  <thead>\n",
       "    <tr style=\"text-align: right;\">\n",
       "      <th></th>\n",
       "      <th>title</th>\n",
       "      <th>timings</th>\n",
       "      <th>latitude</th>\n",
       "      <th>longtitude</th>\n",
       "      <th>price</th>\n",
       "      <th>description</th>\n",
       "      <th>availability_class</th>\n",
       "      <th>avail_status</th>\n",
       "    </tr>\n",
       "  </thead>\n",
       "  <tbody>\n",
       "    <tr>\n",
       "      <th>0</th>\n",
       "      <td>Akash Cinemas: Laggere\\nINFO</td>\n",
       "      <td>10:30 AM</td>\n",
       "      <td>13.0145</td>\n",
       "      <td>77.516</td>\n",
       "      <td>100.00</td>\n",
       "      <td>Silver Class</td>\n",
       "      <td>_available</td>\n",
       "      <td>3</td>\n",
       "    </tr>\n",
       "    <tr>\n",
       "      <th>1</th>\n",
       "      <td>Akash Cinemas: Laggere\\nINFO</td>\n",
       "      <td>01:30 PM</td>\n",
       "      <td>13.0145</td>\n",
       "      <td>77.516</td>\n",
       "      <td>100.00</td>\n",
       "      <td>Silver Class</td>\n",
       "      <td>_available</td>\n",
       "      <td>3</td>\n",
       "    </tr>\n",
       "    <tr>\n",
       "      <th>2</th>\n",
       "      <td>Cinephile HSR Layout: PNR Felicity Mall Haralu...</td>\n",
       "      <td>10:15 AM</td>\n",
       "      <td>12.8963</td>\n",
       "      <td>77.6579</td>\n",
       "      <td>236.00</td>\n",
       "      <td>GOLD</td>\n",
       "      <td>_available</td>\n",
       "      <td>3</td>\n",
       "    </tr>\n",
       "    <tr>\n",
       "      <th>3</th>\n",
       "      <td>Cinephile HSR Layout: PNR Felicity Mall Haralu...</td>\n",
       "      <td>05:15 PM</td>\n",
       "      <td>12.8963</td>\n",
       "      <td>77.6579</td>\n",
       "      <td>236.00</td>\n",
       "      <td>GOLD</td>\n",
       "      <td>_available</td>\n",
       "      <td>3</td>\n",
       "    </tr>\n",
       "    <tr>\n",
       "      <th>4</th>\n",
       "      <td>Cinepolis: Binnypet Mall\\nINFO</td>\n",
       "      <td>11:05 AM</td>\n",
       "      <td>12.9676</td>\n",
       "      <td>77.5584</td>\n",
       "      <td>150.00</td>\n",
       "      <td>PREMIUM</td>\n",
       "      <td>_available</td>\n",
       "      <td>3</td>\n",
       "    </tr>\n",
       "    <tr>\n",
       "      <th>...</th>\n",
       "      <td>...</td>\n",
       "      <td>...</td>\n",
       "      <td>...</td>\n",
       "      <td>...</td>\n",
       "      <td>...</td>\n",
       "      <td>...</td>\n",
       "      <td>...</td>\n",
       "      <td>...</td>\n",
       "    </tr>\n",
       "    <tr>\n",
       "      <th>0</th>\n",
       "      <td>PVR: Nexus (Formerly Forum), Koramangala\\nINFO</td>\n",
       "      <td>10:05 PM</td>\n",
       "      <td>12.9346</td>\n",
       "      <td>77.6111</td>\n",
       "      <td>510.00</td>\n",
       "      <td>RECLINER</td>\n",
       "      <td>_available</td>\n",
       "      <td>3</td>\n",
       "    </tr>\n",
       "    <tr>\n",
       "      <th>1</th>\n",
       "      <td>PVR: Orion Mall, Dr Rajkumar Road\\nINFO</td>\n",
       "      <td>02:00 PM</td>\n",
       "      <td>13.011</td>\n",
       "      <td>77.5551</td>\n",
       "      <td>410.00</td>\n",
       "      <td>RECLINER</td>\n",
       "      <td>_available</td>\n",
       "      <td>3</td>\n",
       "    </tr>\n",
       "    <tr>\n",
       "      <th>2</th>\n",
       "      <td>PVR: Phoenix Marketcity Mall, Whitefield Road\\...</td>\n",
       "      <td>09:30 PM</td>\n",
       "      <td>12.9973</td>\n",
       "      <td>77.6957</td>\n",
       "      <td>480.00</td>\n",
       "      <td>RECLINER</td>\n",
       "      <td>_available</td>\n",
       "      <td>3</td>\n",
       "    </tr>\n",
       "    <tr>\n",
       "      <th>3</th>\n",
       "      <td>PVR: Vega City, Bannerghatta Road\\nINFO</td>\n",
       "      <td>04:25 PM</td>\n",
       "      <td>12.9077</td>\n",
       "      <td>77.6012</td>\n",
       "      <td>410.00</td>\n",
       "      <td>RECLINER</td>\n",
       "      <td>_available</td>\n",
       "      <td>3</td>\n",
       "    </tr>\n",
       "    <tr>\n",
       "      <th>0</th>\n",
       "      <td>PVR: Superplex Forum Mall, Kanakapura Road\\nINFO</td>\n",
       "      <td>11:45 AM</td>\n",
       "      <td>12.8881</td>\n",
       "      <td>77.5629</td>\n",
       "      <td>330.00</td>\n",
       "      <td>RECLINER</td>\n",
       "      <td>_available</td>\n",
       "      <td>3</td>\n",
       "    </tr>\n",
       "  </tbody>\n",
       "</table>\n",
       "<p>1379 rows × 8 columns</p>\n",
       "</div>"
      ],
      "text/plain": [
       "                                                title   timings latitude  \\\n",
       "0                        Akash Cinemas: Laggere\\nINFO  10:30 AM  13.0145   \n",
       "1                        Akash Cinemas: Laggere\\nINFO  01:30 PM  13.0145   \n",
       "2   Cinephile HSR Layout: PNR Felicity Mall Haralu...  10:15 AM  12.8963   \n",
       "3   Cinephile HSR Layout: PNR Felicity Mall Haralu...  05:15 PM  12.8963   \n",
       "4                      Cinepolis: Binnypet Mall\\nINFO  11:05 AM  12.9676   \n",
       "..                                                ...       ...      ...   \n",
       "0      PVR: Nexus (Formerly Forum), Koramangala\\nINFO  10:05 PM  12.9346   \n",
       "1             PVR: Orion Mall, Dr Rajkumar Road\\nINFO  02:00 PM   13.011   \n",
       "2   PVR: Phoenix Marketcity Mall, Whitefield Road\\...  09:30 PM  12.9973   \n",
       "3             PVR: Vega City, Bannerghatta Road\\nINFO  04:25 PM  12.9077   \n",
       "0    PVR: Superplex Forum Mall, Kanakapura Road\\nINFO  11:45 AM  12.8881   \n",
       "\n",
       "   longtitude   price   description availability_class avail_status  \n",
       "0      77.516  100.00  Silver Class         _available            3  \n",
       "1      77.516  100.00  Silver Class         _available            3  \n",
       "2     77.6579  236.00          GOLD         _available            3  \n",
       "3     77.6579  236.00          GOLD         _available            3  \n",
       "4     77.5584  150.00       PREMIUM         _available            3  \n",
       "..        ...     ...           ...                ...          ...  \n",
       "0     77.6111  510.00      RECLINER         _available            3  \n",
       "1     77.5551  410.00      RECLINER         _available            3  \n",
       "2     77.6957  480.00      RECLINER         _available            3  \n",
       "3     77.6012  410.00      RECLINER         _available            3  \n",
       "0     77.5629  330.00      RECLINER         _available            3  \n",
       "\n",
       "[1379 rows x 8 columns]"
      ]
     },
     "execution_count": 18,
     "metadata": {},
     "output_type": "execute_result"
    }
   ],
   "source": [
    "data_movie_list_pd"
   ]
  },
  {
   "cell_type": "code",
   "execution_count": 204,
   "metadata": {},
   "outputs": [],
   "source": [
    "# # for holding the resultant list\n",
    "# element_list = []\n",
    "  \n",
    "# for page in range(1, 3, 1):\n",
    "    \n",
    "#     page_url = \"https://webscraper.io/test-sites/e-commerce/static/computers/laptops?page=\" + str(page)\n",
    "#     driver = webdriver.Chrome(ChromeDriverManager().install())\n",
    "#     driver.get(page_url)\n",
    "#     title = driver.find_elements_by_class_name(\"title\")\n",
    "#     price = driver.find_elements_by_class_name(\"price\")\n",
    "#     description = driver.find_elements_by_class_name(\"description\")\n",
    "#     rating = driver.find_elements_by_class_name(\"ratings\")\n",
    "  \n",
    "#     for i in range(len(title)):\n",
    "#         element_list.append([title[i].text, price[i].text, description[i].text, rating[i].text])\n",
    "  \n",
    "# print(element_list)\n",
    "  \n",
    "# #closing the driver\n",
    "# driver.close()"
   ]
  },
  {
   "cell_type": "code",
   "execution_count": null,
   "metadata": {},
   "outputs": [],
   "source": []
  },
  {
   "cell_type": "code",
   "execution_count": null,
   "metadata": {},
   "outputs": [],
   "source": []
  },
  {
   "cell_type": "code",
   "execution_count": null,
   "metadata": {},
   "outputs": [],
   "source": []
  },
  {
   "cell_type": "code",
   "execution_count": null,
   "metadata": {},
   "outputs": [],
   "source": []
  },
  {
   "cell_type": "code",
   "execution_count": null,
   "metadata": {},
   "outputs": [],
   "source": []
  },
  {
   "cell_type": "code",
   "execution_count": null,
   "metadata": {},
   "outputs": [],
   "source": []
  }
 ],
 "metadata": {
  "kernelspec": {
   "display_name": "py38",
   "language": "python",
   "name": "python3"
  },
  "language_info": {
   "codemirror_mode": {
    "name": "ipython",
    "version": 3
   },
   "file_extension": ".py",
   "mimetype": "text/x-python",
   "name": "python",
   "nbconvert_exporter": "python",
   "pygments_lexer": "ipython3",
   "version": "3.9.6"
  },
  "orig_nbformat": 4,
  "vscode": {
   "interpreter": {
    "hash": "f8daa8cf081d519e6115328af5c7835761d6871f4279c0a8b79269c22be2bb60"
   }
  }
 },
 "nbformat": 4,
 "nbformat_minor": 2
}
